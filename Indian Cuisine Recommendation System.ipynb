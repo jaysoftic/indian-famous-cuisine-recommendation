{
 "cells": [
  {
   "cell_type": "code",
   "execution_count": 1,
   "metadata": {},
   "outputs": [],
   "source": [
    "import pandas as pd\n",
    "import numpy as np\n",
    "import matplotlib.pyplot as plt\n",
    "import seaborn as sns\n",
    "from pylab import rcParams\n",
    "rcParams[\"figure.figsize\"] = (12, 6)\n",
    "sns.set()"
   ]
  },
  {
   "cell_type": "code",
   "execution_count": 2,
   "metadata": {},
   "outputs": [
    {
     "data": {
      "text/html": [
       "<div>\n",
       "<style scoped>\n",
       "    .dataframe tbody tr th:only-of-type {\n",
       "        vertical-align: middle;\n",
       "    }\n",
       "\n",
       "    .dataframe tbody tr th {\n",
       "        vertical-align: top;\n",
       "    }\n",
       "\n",
       "    .dataframe thead th {\n",
       "        text-align: right;\n",
       "    }\n",
       "</style>\n",
       "<table border=\"1\" class=\"dataframe\">\n",
       "  <thead>\n",
       "    <tr style=\"text-align: right;\">\n",
       "      <th></th>\n",
       "      <th>name</th>\n",
       "      <th>ingredients</th>\n",
       "      <th>diet</th>\n",
       "      <th>prep_time</th>\n",
       "      <th>cook_time</th>\n",
       "      <th>flavor_profile</th>\n",
       "      <th>course</th>\n",
       "      <th>state</th>\n",
       "      <th>region</th>\n",
       "    </tr>\n",
       "  </thead>\n",
       "  <tbody>\n",
       "    <tr>\n",
       "      <th>0</th>\n",
       "      <td>Balu shahi</td>\n",
       "      <td>Maida flour, yogurt, oil, sugar</td>\n",
       "      <td>vegetarian</td>\n",
       "      <td>45</td>\n",
       "      <td>25</td>\n",
       "      <td>sweet</td>\n",
       "      <td>dessert</td>\n",
       "      <td>West Bengal</td>\n",
       "      <td>East</td>\n",
       "    </tr>\n",
       "    <tr>\n",
       "      <th>1</th>\n",
       "      <td>Boondi</td>\n",
       "      <td>Gram flour, ghee, sugar</td>\n",
       "      <td>vegetarian</td>\n",
       "      <td>80</td>\n",
       "      <td>30</td>\n",
       "      <td>sweet</td>\n",
       "      <td>dessert</td>\n",
       "      <td>Rajasthan</td>\n",
       "      <td>West</td>\n",
       "    </tr>\n",
       "    <tr>\n",
       "      <th>2</th>\n",
       "      <td>Gajar ka halwa</td>\n",
       "      <td>Carrots, milk, sugar, ghee, cashews, raisins</td>\n",
       "      <td>vegetarian</td>\n",
       "      <td>15</td>\n",
       "      <td>60</td>\n",
       "      <td>sweet</td>\n",
       "      <td>dessert</td>\n",
       "      <td>Punjab</td>\n",
       "      <td>North</td>\n",
       "    </tr>\n",
       "    <tr>\n",
       "      <th>3</th>\n",
       "      <td>Ghevar</td>\n",
       "      <td>Flour, ghee, kewra, milk, clarified butter, su...</td>\n",
       "      <td>vegetarian</td>\n",
       "      <td>15</td>\n",
       "      <td>30</td>\n",
       "      <td>sweet</td>\n",
       "      <td>dessert</td>\n",
       "      <td>Rajasthan</td>\n",
       "      <td>West</td>\n",
       "    </tr>\n",
       "    <tr>\n",
       "      <th>4</th>\n",
       "      <td>Gulab jamun</td>\n",
       "      <td>Milk powder, plain flour, baking powder, ghee,...</td>\n",
       "      <td>vegetarian</td>\n",
       "      <td>15</td>\n",
       "      <td>40</td>\n",
       "      <td>sweet</td>\n",
       "      <td>dessert</td>\n",
       "      <td>West Bengal</td>\n",
       "      <td>East</td>\n",
       "    </tr>\n",
       "  </tbody>\n",
       "</table>\n",
       "</div>"
      ],
      "text/plain": [
       "             name                                        ingredients  \\\n",
       "0      Balu shahi                    Maida flour, yogurt, oil, sugar   \n",
       "1          Boondi                            Gram flour, ghee, sugar   \n",
       "2  Gajar ka halwa       Carrots, milk, sugar, ghee, cashews, raisins   \n",
       "3          Ghevar  Flour, ghee, kewra, milk, clarified butter, su...   \n",
       "4     Gulab jamun  Milk powder, plain flour, baking powder, ghee,...   \n",
       "\n",
       "         diet  prep_time  cook_time flavor_profile   course        state  \\\n",
       "0  vegetarian         45         25          sweet  dessert  West Bengal   \n",
       "1  vegetarian         80         30          sweet  dessert    Rajasthan   \n",
       "2  vegetarian         15         60          sweet  dessert       Punjab   \n",
       "3  vegetarian         15         30          sweet  dessert    Rajasthan   \n",
       "4  vegetarian         15         40          sweet  dessert  West Bengal   \n",
       "\n",
       "  region  \n",
       "0   East  \n",
       "1   West  \n",
       "2  North  \n",
       "3   West  \n",
       "4   East  "
      ]
     },
     "execution_count": 2,
     "metadata": {},
     "output_type": "execute_result"
    }
   ],
   "source": [
    "main_data = pd.read_csv(\"indian_food.csv\")\n",
    "main_data.head()"
   ]
  },
  {
   "cell_type": "markdown",
   "metadata": {},
   "source": [
    "### Exploratory Data Analysis"
   ]
  },
  {
   "cell_type": "markdown",
   "metadata": {},
   "source": [
    "#### Understand the data set"
   ]
  },
  {
   "cell_type": "code",
   "execution_count": 3,
   "metadata": {},
   "outputs": [
    {
     "data": {
      "text/plain": [
       "(255, 9)"
      ]
     },
     "execution_count": 3,
     "metadata": {},
     "output_type": "execute_result"
    }
   ],
   "source": [
    "main_data.shape"
   ]
  },
  {
   "cell_type": "code",
   "execution_count": 4,
   "metadata": {},
   "outputs": [
    {
     "data": {
      "text/plain": [
       "Index(['name', 'ingredients', 'diet', 'prep_time', 'cook_time',\n",
       "       'flavor_profile', 'course', 'state', 'region'],\n",
       "      dtype='object')"
      ]
     },
     "execution_count": 4,
     "metadata": {},
     "output_type": "execute_result"
    }
   ],
   "source": [
    "# first let's look at to the columns\n",
    "main_data.columns"
   ]
  },
  {
   "cell_type": "markdown",
   "metadata": {},
   "source": [
    "###### undserstand the features of data set\n",
    "- here i will go through each columns"
   ]
  },
  {
   "cell_type": "code",
   "execution_count": 5,
   "metadata": {},
   "outputs": [
    {
     "data": {
      "text/plain": [
       "255"
      ]
     },
     "execution_count": 5,
     "metadata": {},
     "output_type": "execute_result"
    }
   ],
   "source": [
    "# let's look at the name column\n",
    "\n",
    "main_data.name.nunique()\n",
    "# so name is indicates the name of the indian food, here we have a 255 indian food"
   ]
  },
  {
   "cell_type": "code",
   "execution_count": 6,
   "metadata": {},
   "outputs": [],
   "source": [
    "# let's remove space around name incase if the have\n",
    "\n",
    "main_data.name = main_data.name.str.strip()\n",
    "\n",
    "# let's convert name into lower case\n",
    "main_data.name = main_data.name.str.lower()"
   ]
  },
  {
   "cell_type": "code",
   "execution_count": 7,
   "metadata": {},
   "outputs": [],
   "source": [
    "# let's look at the ingredients\n",
    "\n",
    "# ingredients which are used to make that particular dishes"
   ]
  },
  {
   "cell_type": "code",
   "execution_count": 8,
   "metadata": {},
   "outputs": [
    {
     "data": {
      "text/plain": [
       "vegetarian        226\n",
       "non vegetarian     29\n",
       "Name: diet, dtype: int64"
      ]
     },
     "execution_count": 8,
     "metadata": {},
     "output_type": "execute_result"
    }
   ],
   "source": [
    "# let's look at the diet\n",
    "\n",
    "# diets can be vegetarian or Non vegetarian\n",
    "\n",
    "main_data.diet.value_counts()"
   ]
  },
  {
   "cell_type": "code",
   "execution_count": 9,
   "metadata": {},
   "outputs": [],
   "source": [
    "# let's look at the prep time and cook time\n",
    "\n",
    "# so prep time is preparation time of particular dish\n",
    "# cook time is cooking time taken by particular dish to cook"
   ]
  },
  {
   "cell_type": "code",
   "execution_count": 10,
   "metadata": {},
   "outputs": [
    {
     "data": {
      "text/plain": [
       "spicy     133\n",
       "sweet      88\n",
       "-1         29\n",
       "bitter      4\n",
       "sour        1\n",
       "Name: flavor_profile, dtype: int64"
      ]
     },
     "execution_count": 10,
     "metadata": {},
     "output_type": "execute_result"
    }
   ],
   "source": [
    "# let's look at the flavor_profile\n",
    "\n",
    "main_data.flavor_profile.value_counts()\n",
    "# so flavor_profile indicates the flavor of the food\n",
    "# here we have four types of flavor\n",
    "# here we can see there are some NaN value as -1"
   ]
  },
  {
   "cell_type": "code",
   "execution_count": 11,
   "metadata": {},
   "outputs": [
    {
     "data": {
      "text/plain": [
       "main course    129\n",
       "dessert         85\n",
       "snack           39\n",
       "starter          2\n",
       "Name: course, dtype: int64"
      ]
     },
     "execution_count": 11,
     "metadata": {},
     "output_type": "execute_result"
    }
   ],
   "source": [
    "# let's look at the course\n",
    "\n",
    "main_data.course.value_counts()\n",
    "\n",
    "# here course indicates that the cuisine is use as a main course or dessert or snack or starter"
   ]
  },
  {
   "cell_type": "code",
   "execution_count": 12,
   "metadata": {},
   "outputs": [
    {
     "data": {
      "text/plain": [
       "array(['West Bengal', 'Rajasthan', 'Punjab', 'Uttar Pradesh', '-1',\n",
       "       'Odisha', 'Maharashtra', 'Uttarakhand', 'Assam', 'Bihar',\n",
       "       'Andhra Pradesh', 'Karnataka', 'Telangana', 'Kerala', 'Tamil Nadu',\n",
       "       'Gujarat', 'Tripura', 'Manipur', 'Nagaland', 'NCT of Delhi',\n",
       "       'Jammu & Kashmir', 'Chhattisgarh', 'Haryana', 'Madhya Pradesh',\n",
       "       'Goa'], dtype=object)"
      ]
     },
     "execution_count": 12,
     "metadata": {},
     "output_type": "execute_result"
    }
   ],
   "source": [
    "# let's look at to the state\n",
    "\n",
    "main_data.state.unique()\n",
    "\n",
    "# here are the state of india which indicates that the foods are famous or born in that particular state\n",
    "\n",
    "# here we can see there are some NaN value as -1"
   ]
  },
  {
   "cell_type": "code",
   "execution_count": 13,
   "metadata": {},
   "outputs": [
    {
     "data": {
      "text/plain": [
       "array(['East', 'West', 'North', '-1', 'North East', 'South', 'Central',\n",
       "       nan], dtype=object)"
      ]
     },
     "execution_count": 13,
     "metadata": {},
     "output_type": "execute_result"
    }
   ],
   "source": [
    "# let's look at to the region\n",
    "\n",
    "main_data.region.unique()\n",
    "\n",
    "# here are the five region of the india which indicates where the state is belong\n",
    "\n",
    "# here we can see there are some NaN value as -1"
   ]
  },
  {
   "cell_type": "markdown",
   "metadata": {},
   "source": [
    "##### observation\n",
    "###### so here we have 255 dishes and 9 columns associated with each of them which describe as follow\n",
    "- name: name of the dish\n",
    "- ingredients: ingredients which are used to make particular dish\n",
    "- diet: It indicates that whether the dish is veg or non- veg\n",
    "- prep_time: prepartion time\n",
    "- cook_time: cooking time\n",
    "- flavor_profile: flavor profile include that whether the dish is spicy or sweet etc\n",
    "- course: course is a course of meal, the course might be main course, snack or dessert etc\n",
    "- state: state where the dish is famous or born\n",
    "- region: region where the state belongs"
   ]
  },
  {
   "cell_type": "code",
   "execution_count": 14,
   "metadata": {},
   "outputs": [
    {
     "data": {
      "text/plain": [
       "name              0\n",
       "ingredients       0\n",
       "diet              0\n",
       "prep_time         0\n",
       "cook_time         0\n",
       "flavor_profile    0\n",
       "course            0\n",
       "state             0\n",
       "region            1\n",
       "dtype: int64"
      ]
     },
     "execution_count": 14,
     "metadata": {},
     "output_type": "execute_result"
    }
   ],
   "source": [
    "# let's check the NaN value\n",
    "\n",
    "main_data.isna().sum()"
   ]
  },
  {
   "cell_type": "code",
   "execution_count": 15,
   "metadata": {},
   "outputs": [
    {
     "data": {
      "text/html": [
       "<div>\n",
       "<style scoped>\n",
       "    .dataframe tbody tr th:only-of-type {\n",
       "        vertical-align: middle;\n",
       "    }\n",
       "\n",
       "    .dataframe tbody tr th {\n",
       "        vertical-align: top;\n",
       "    }\n",
       "\n",
       "    .dataframe thead th {\n",
       "        text-align: right;\n",
       "    }\n",
       "</style>\n",
       "<table border=\"1\" class=\"dataframe\">\n",
       "  <thead>\n",
       "    <tr style=\"text-align: right;\">\n",
       "      <th></th>\n",
       "      <th>name</th>\n",
       "      <th>ingredients</th>\n",
       "      <th>diet</th>\n",
       "      <th>prep_time</th>\n",
       "      <th>cook_time</th>\n",
       "      <th>flavor_profile</th>\n",
       "      <th>course</th>\n",
       "      <th>state</th>\n",
       "      <th>region</th>\n",
       "    </tr>\n",
       "  </thead>\n",
       "  <tbody>\n",
       "    <tr>\n",
       "      <th>110</th>\n",
       "      <td>panjeeri</td>\n",
       "      <td>Whole wheat flour, musk melon seeds, poppy see...</td>\n",
       "      <td>vegetarian</td>\n",
       "      <td>10</td>\n",
       "      <td>25</td>\n",
       "      <td>sweet</td>\n",
       "      <td>dessert</td>\n",
       "      <td>Uttar Pradesh</td>\n",
       "      <td>NaN</td>\n",
       "    </tr>\n",
       "  </tbody>\n",
       "</table>\n",
       "</div>"
      ],
      "text/plain": [
       "         name                                        ingredients        diet  \\\n",
       "110  panjeeri  Whole wheat flour, musk melon seeds, poppy see...  vegetarian   \n",
       "\n",
       "     prep_time  cook_time flavor_profile   course          state region  \n",
       "110         10         25          sweet  dessert  Uttar Pradesh    NaN  "
      ]
     },
     "execution_count": 15,
     "metadata": {},
     "output_type": "execute_result"
    }
   ],
   "source": [
    "# here is NaN value in region columns\n",
    "\n",
    "main_data[main_data.region.isna()]"
   ]
  },
  {
   "cell_type": "code",
   "execution_count": 16,
   "metadata": {},
   "outputs": [
    {
     "data": {
      "text/html": [
       "<div>\n",
       "<style scoped>\n",
       "    .dataframe tbody tr th:only-of-type {\n",
       "        vertical-align: middle;\n",
       "    }\n",
       "\n",
       "    .dataframe tbody tr th {\n",
       "        vertical-align: top;\n",
       "    }\n",
       "\n",
       "    .dataframe thead th {\n",
       "        text-align: right;\n",
       "    }\n",
       "</style>\n",
       "<table border=\"1\" class=\"dataframe\">\n",
       "  <thead>\n",
       "    <tr style=\"text-align: right;\">\n",
       "      <th></th>\n",
       "      <th>name</th>\n",
       "      <th>ingredients</th>\n",
       "      <th>diet</th>\n",
       "      <th>prep_time</th>\n",
       "      <th>cook_time</th>\n",
       "      <th>flavor_profile</th>\n",
       "      <th>course</th>\n",
       "      <th>state</th>\n",
       "      <th>region</th>\n",
       "    </tr>\n",
       "  </thead>\n",
       "  <tbody>\n",
       "    <tr>\n",
       "      <th>6</th>\n",
       "      <td>jalebi</td>\n",
       "      <td>Maida, corn flour, baking soda, vinegar, curd,...</td>\n",
       "      <td>vegetarian</td>\n",
       "      <td>10</td>\n",
       "      <td>50</td>\n",
       "      <td>sweet</td>\n",
       "      <td>dessert</td>\n",
       "      <td>Uttar Pradesh</td>\n",
       "      <td>North</td>\n",
       "    </tr>\n",
       "    <tr>\n",
       "      <th>13</th>\n",
       "      <td>petha</td>\n",
       "      <td>Firm white pumpkin, sugar, kitchen lime, alum ...</td>\n",
       "      <td>vegetarian</td>\n",
       "      <td>10</td>\n",
       "      <td>30</td>\n",
       "      <td>sweet</td>\n",
       "      <td>dessert</td>\n",
       "      <td>Uttar Pradesh</td>\n",
       "      <td>North</td>\n",
       "    </tr>\n",
       "    <tr>\n",
       "      <th>15</th>\n",
       "      <td>rabri</td>\n",
       "      <td>Condensed milk, sugar, spices, nuts</td>\n",
       "      <td>vegetarian</td>\n",
       "      <td>10</td>\n",
       "      <td>45</td>\n",
       "      <td>sweet</td>\n",
       "      <td>dessert</td>\n",
       "      <td>Uttar Pradesh</td>\n",
       "      <td>North</td>\n",
       "    </tr>\n",
       "    <tr>\n",
       "      <th>18</th>\n",
       "      <td>sohan halwa</td>\n",
       "      <td>Corn flour, ghee, dry fruits</td>\n",
       "      <td>vegetarian</td>\n",
       "      <td>10</td>\n",
       "      <td>60</td>\n",
       "      <td>sweet</td>\n",
       "      <td>dessert</td>\n",
       "      <td>Uttar Pradesh</td>\n",
       "      <td>North</td>\n",
       "    </tr>\n",
       "    <tr>\n",
       "      <th>90</th>\n",
       "      <td>kachori</td>\n",
       "      <td>Moong dal, rava, garam masala, dough, fennel s...</td>\n",
       "      <td>vegetarian</td>\n",
       "      <td>30</td>\n",
       "      <td>60</td>\n",
       "      <td>spicy</td>\n",
       "      <td>snack</td>\n",
       "      <td>Uttar Pradesh</td>\n",
       "      <td>North</td>\n",
       "    </tr>\n",
       "  </tbody>\n",
       "</table>\n",
       "</div>"
      ],
      "text/plain": [
       "           name                                        ingredients  \\\n",
       "6        jalebi  Maida, corn flour, baking soda, vinegar, curd,...   \n",
       "13        petha  Firm white pumpkin, sugar, kitchen lime, alum ...   \n",
       "15        rabri                Condensed milk, sugar, spices, nuts   \n",
       "18  sohan halwa                       Corn flour, ghee, dry fruits   \n",
       "90      kachori  Moong dal, rava, garam masala, dough, fennel s...   \n",
       "\n",
       "          diet  prep_time  cook_time flavor_profile   course          state  \\\n",
       "6   vegetarian         10         50          sweet  dessert  Uttar Pradesh   \n",
       "13  vegetarian         10         30          sweet  dessert  Uttar Pradesh   \n",
       "15  vegetarian         10         45          sweet  dessert  Uttar Pradesh   \n",
       "18  vegetarian         10         60          sweet  dessert  Uttar Pradesh   \n",
       "90  vegetarian         30         60          spicy    snack  Uttar Pradesh   \n",
       "\n",
       "   region  \n",
       "6   North  \n",
       "13  North  \n",
       "15  North  \n",
       "18  North  \n",
       "90  North  "
      ]
     },
     "execution_count": 16,
     "metadata": {},
     "output_type": "execute_result"
    }
   ],
   "source": [
    "# so above i can see that there is a NaN value which has state is Uttar Pradesh\n",
    "# so find that what is the region value where the state is Uttar Pradesh\n",
    "\n",
    "main_data.loc[main_data.state == \"Uttar Pradesh\"].head()"
   ]
  },
  {
   "cell_type": "code",
   "execution_count": 17,
   "metadata": {},
   "outputs": [],
   "source": [
    "# so here we can see region is North whenver the state is Uttar Pradesh\n",
    "# let's fill that NaN value of region as a North \n",
    "\n",
    "main_data.region.fillna(\"North\", inplace = True)"
   ]
  },
  {
   "cell_type": "markdown",
   "metadata": {},
   "source": [
    "##### EDA of DIet"
   ]
  },
  {
   "cell_type": "code",
   "execution_count": 18,
   "metadata": {
    "scrolled": false
   },
   "outputs": [
    {
     "data": {
      "image/png": "[encoded data removed]",
      "text/plain": [
       "<Figure size 864x432 with 1 Axes>"
      ]
     },
     "metadata": {},
     "output_type": "display_data"
    }
   ],
   "source": [
    "# let's look at to the diet\n",
    "\n",
    "# let's replace non vegetarian to non-vaegetarian for ease of access\n",
    "main_data.diet = main_data.diet.str.replace(\" \", \"-\")\n",
    "\n",
    "sns.countplot(data = main_data, x = \"diet\", palette = [\"green\", \"red\"])\n",
    "plt.xlabel(\"Diet\")\n",
    "plt.ylabel(\"Count\")\n",
    "plt.title(\"Proporation of Diet\")\n",
    "plt.show()"
   ]
  },
  {
   "cell_type": "markdown",
   "metadata": {},
   "source": [
    "###### observation: here vegetarian dishes are more than non - vegetarian"
   ]
  },
  {
   "cell_type": "markdown",
   "metadata": {},
   "source": [
    "###### EDA of flavor_profile"
   ]
  },
  {
   "cell_type": "code",
   "execution_count": 19,
   "metadata": {},
   "outputs": [
    {
     "data": {
      "text/plain": [
       "spicy     133\n",
       "sweet      88\n",
       "-1         29\n",
       "bitter      4\n",
       "sour        1\n",
       "Name: flavor_profile, dtype: int64"
      ]
     },
     "execution_count": 19,
     "metadata": {},
     "output_type": "execute_result"
    }
   ],
   "source": [
    "main_data.flavor_profile.value_counts()"
   ]
  },
  {
   "cell_type": "code",
   "execution_count": 20,
   "metadata": {},
   "outputs": [],
   "source": [
    "# we don't have any NaN value in flavor_profile but we have a -1 value in flavor profile which is likely to NaN\n",
    "# so we fill that -1 to other, it's call other flavor\n",
    "\n",
    "# so whenever it has \"-1\" in flavor_profile we replace it to with other\n",
    "\n",
    "main_data.flavor_profile = main_data.flavor_profile.replace(\"-1\", \"other\")"
   ]
  },
  {
   "cell_type": "code",
   "execution_count": 21,
   "metadata": {},
   "outputs": [
    {
     "data": {
      "text/plain": [
       "spicy     133\n",
       "sweet      88\n",
       "other      29\n",
       "bitter      4\n",
       "sour        1\n",
       "Name: flavor_profile, dtype: int64"
      ]
     },
     "execution_count": 21,
     "metadata": {},
     "output_type": "execute_result"
    }
   ],
   "source": [
    "main_data.flavor_profile.value_counts()"
   ]
  },
  {
   "cell_type": "code",
   "execution_count": 22,
   "metadata": {},
   "outputs": [
    {
     "data": {
      "image/png": "[encoded data removed]",
      "text/plain": [
       "<Figure size 864x432 with 1 Axes>"
      ]
     },
     "metadata": {},
     "output_type": "display_data"
    }
   ],
   "source": [
    "# let's plot flavor_profile\n",
    "\n",
    "sns.countplot(data = main_data, x = \"flavor_profile\")\n",
    "plt.xlabel(\"Flavours\")\n",
    "plt.title(\"Test of the cuisine base on flavours\")\n",
    "plt.show()"
   ]
  },
  {
   "cell_type": "markdown",
   "metadata": {},
   "source": [
    "###### observation: Indian are usually like spicy and sweet food"
   ]
  },
  {
   "cell_type": "markdown",
   "metadata": {},
   "source": [
    "##### EDA of course"
   ]
  },
  {
   "cell_type": "code",
   "execution_count": 23,
   "metadata": {},
   "outputs": [
    {
     "data": {
      "image/png": "[encoded data removed]",
      "text/plain": [
       "<Figure size 864x432 with 1 Axes>"
      ]
     },
     "metadata": {},
     "output_type": "display_data"
    }
   ],
   "source": [
    "# let's look at the course \n",
    "# here course are main course which usually we take at a lunch and dinner time\n",
    "# dessert is a sweet basically which we take a usually after lunch and dinner\n",
    "# there also some snack and starter\n",
    "\n",
    "sns.countplot(data = main_data, x = \"course\")\n",
    "plt.show()"
   ]
  },
  {
   "cell_type": "markdown",
   "metadata": {},
   "source": [
    "###### observation: Dishes of Main Course and Dessert are hudge"
   ]
  },
  {
   "cell_type": "markdown",
   "metadata": {},
   "source": [
    "##### EDA of state"
   ]
  },
  {
   "cell_type": "code",
   "execution_count": 24,
   "metadata": {},
   "outputs": [
    {
     "data": {
      "text/plain": [
       "Gujarat        35\n",
       "Punjab         32\n",
       "Maharashtra    30\n",
       "-1             24\n",
       "West Bengal    24\n",
       "Name: state, dtype: int64"
      ]
     },
     "execution_count": 24,
     "metadata": {},
     "output_type": "execute_result"
    }
   ],
   "source": [
    "# let's look at the state\n",
    "# state doesn't have and NaN value but state have a -1 value which is likely to NaN value\n",
    "# so here 24 -1 means we have 24  NaN values\n",
    "main_data.state.value_counts().head()"
   ]
  },
  {
   "cell_type": "code",
   "execution_count": 25,
   "metadata": {},
   "outputs": [
    {
     "data": {
      "text/html": [
       "<div>\n",
       "<style scoped>\n",
       "    .dataframe tbody tr th:only-of-type {\n",
       "        vertical-align: middle;\n",
       "    }\n",
       "\n",
       "    .dataframe tbody tr th {\n",
       "        vertical-align: top;\n",
       "    }\n",
       "\n",
       "    .dataframe thead th {\n",
       "        text-align: right;\n",
       "    }\n",
       "</style>\n",
       "<table border=\"1\" class=\"dataframe\">\n",
       "  <thead>\n",
       "    <tr style=\"text-align: right;\">\n",
       "      <th></th>\n",
       "      <th>name</th>\n",
       "      <th>ingredients</th>\n",
       "      <th>diet</th>\n",
       "      <th>prep_time</th>\n",
       "      <th>cook_time</th>\n",
       "      <th>flavor_profile</th>\n",
       "      <th>course</th>\n",
       "      <th>state</th>\n",
       "      <th>region</th>\n",
       "    </tr>\n",
       "  </thead>\n",
       "  <tbody>\n",
       "    <tr>\n",
       "      <th>7</th>\n",
       "      <td>kaju katli</td>\n",
       "      <td>Cashews, ghee, cardamom, sugar</td>\n",
       "      <td>vegetarian</td>\n",
       "      <td>10</td>\n",
       "      <td>20</td>\n",
       "      <td>sweet</td>\n",
       "      <td>dessert</td>\n",
       "      <td>-1</td>\n",
       "      <td>-1</td>\n",
       "    </tr>\n",
       "    <tr>\n",
       "      <th>9</th>\n",
       "      <td>kheer</td>\n",
       "      <td>Milk, rice, sugar, dried fruits</td>\n",
       "      <td>vegetarian</td>\n",
       "      <td>10</td>\n",
       "      <td>40</td>\n",
       "      <td>sweet</td>\n",
       "      <td>dessert</td>\n",
       "      <td>-1</td>\n",
       "      <td>-1</td>\n",
       "    </tr>\n",
       "    <tr>\n",
       "      <th>10</th>\n",
       "      <td>laddu</td>\n",
       "      <td>Gram flour, ghee, sugar</td>\n",
       "      <td>vegetarian</td>\n",
       "      <td>10</td>\n",
       "      <td>40</td>\n",
       "      <td>sweet</td>\n",
       "      <td>dessert</td>\n",
       "      <td>-1</td>\n",
       "      <td>-1</td>\n",
       "    </tr>\n",
       "    <tr>\n",
       "      <th>12</th>\n",
       "      <td>nankhatai</td>\n",
       "      <td>Refined flour, besan, ghee, powdered sugar, yo...</td>\n",
       "      <td>vegetarian</td>\n",
       "      <td>20</td>\n",
       "      <td>30</td>\n",
       "      <td>sweet</td>\n",
       "      <td>dessert</td>\n",
       "      <td>-1</td>\n",
       "      <td>-1</td>\n",
       "    </tr>\n",
       "    <tr>\n",
       "      <th>94</th>\n",
       "      <td>khichdi</td>\n",
       "      <td>Moong dal, green peas, ginger, tomato, green c...</td>\n",
       "      <td>vegetarian</td>\n",
       "      <td>40</td>\n",
       "      <td>20</td>\n",
       "      <td>spicy</td>\n",
       "      <td>main course</td>\n",
       "      <td>-1</td>\n",
       "      <td>-1</td>\n",
       "    </tr>\n",
       "  </tbody>\n",
       "</table>\n",
       "</div>"
      ],
      "text/plain": [
       "          name                                        ingredients        diet  \\\n",
       "7   kaju katli                     Cashews, ghee, cardamom, sugar  vegetarian   \n",
       "9        kheer                    Milk, rice, sugar, dried fruits  vegetarian   \n",
       "10       laddu                            Gram flour, ghee, sugar  vegetarian   \n",
       "12   nankhatai  Refined flour, besan, ghee, powdered sugar, yo...  vegetarian   \n",
       "94     khichdi  Moong dal, green peas, ginger, tomato, green c...  vegetarian   \n",
       "\n",
       "    prep_time  cook_time flavor_profile       course state region  \n",
       "7          10         20          sweet      dessert    -1     -1  \n",
       "9          10         40          sweet      dessert    -1     -1  \n",
       "10         10         40          sweet      dessert    -1     -1  \n",
       "12         20         30          sweet      dessert    -1     -1  \n",
       "94         40         20          spicy  main course    -1     -1  "
      ]
     },
     "execution_count": 25,
     "metadata": {},
     "output_type": "execute_result"
    }
   ],
   "source": [
    "# let's look at the data where the state value is \"-1\"\n",
    "\n",
    "main_data.loc[main_data.state == \"-1\"].head()"
   ]
  },
  {
   "cell_type": "code",
   "execution_count": 26,
   "metadata": {},
   "outputs": [],
   "source": [
    "# so i research this on internet and i found that there are some of the dishes which are famous and common to\n",
    "# all the over the state of india\n",
    "# so to prevent this outlier i replace \"-1\" with All State\n",
    "\n",
    "main_data.state = main_data.state.replace(\"-1\", \"All State\")"
   ]
  },
  {
   "cell_type": "code",
   "execution_count": 27,
   "metadata": {},
   "outputs": [
    {
     "data": {
      "text/plain": [
       "24"
      ]
     },
     "execution_count": 27,
     "metadata": {},
     "output_type": "execute_result"
    }
   ],
   "source": [
    "# let's find out number of state\n",
    "\n",
    "main_data.state.nunique() - 1\n",
    "# here we have a total 24 unique states"
   ]
  },
  {
   "cell_type": "code",
   "execution_count": 28,
   "metadata": {},
   "outputs": [
    {
     "data": {
      "image/png": "[encoded data removed]",
      "text/plain": [
       "<Figure size 864x432 with 1 Axes>"
      ]
     },
     "metadata": {},
     "output_type": "display_data"
    }
   ],
   "source": [
    "# let's plot the number of dishes are famous or born in particular state of india\n",
    "\n",
    "sns.countplot(data = main_data, y = \"state\")\n",
    "plt.title(\"Number of Dishes which are famous or born in the State of India\")\n",
    "plt.ylabel(\"States\")\n",
    "plt.show()"
   ]
  },
  {
   "cell_type": "markdown",
   "metadata": {},
   "source": [
    "###### observation: Diffierent states has a diffierent cuisine but Gujarat has a highest cuisine"
   ]
  },
  {
   "cell_type": "markdown",
   "metadata": {},
   "source": [
    "##### EDA of Region"
   ]
  },
  {
   "cell_type": "code",
   "execution_count": 29,
   "metadata": {},
   "outputs": [
    {
     "data": {
      "text/plain": [
       "West          74\n",
       "South         59\n",
       "North         50\n",
       "East          31\n",
       "North East    25\n",
       "-1            13\n",
       "Central        3\n",
       "Name: region, dtype: int64"
      ]
     },
     "execution_count": 29,
     "metadata": {},
     "output_type": "execute_result"
    }
   ],
   "source": [
    "# let's look at the region\n",
    "main_data.region.value_counts()"
   ]
  },
  {
   "cell_type": "code",
   "execution_count": 30,
   "metadata": {},
   "outputs": [
    {
     "data": {
      "text/html": [
       "<div>\n",
       "<style scoped>\n",
       "    .dataframe tbody tr th:only-of-type {\n",
       "        vertical-align: middle;\n",
       "    }\n",
       "\n",
       "    .dataframe tbody tr th {\n",
       "        vertical-align: top;\n",
       "    }\n",
       "\n",
       "    .dataframe thead th {\n",
       "        text-align: right;\n",
       "    }\n",
       "</style>\n",
       "<table border=\"1\" class=\"dataframe\">\n",
       "  <thead>\n",
       "    <tr style=\"text-align: right;\">\n",
       "      <th></th>\n",
       "      <th>name</th>\n",
       "      <th>ingredients</th>\n",
       "      <th>diet</th>\n",
       "      <th>prep_time</th>\n",
       "      <th>cook_time</th>\n",
       "      <th>flavor_profile</th>\n",
       "      <th>course</th>\n",
       "      <th>state</th>\n",
       "      <th>region</th>\n",
       "    </tr>\n",
       "  </thead>\n",
       "  <tbody>\n",
       "    <tr>\n",
       "      <th>7</th>\n",
       "      <td>kaju katli</td>\n",
       "      <td>Cashews, ghee, cardamom, sugar</td>\n",
       "      <td>vegetarian</td>\n",
       "      <td>10</td>\n",
       "      <td>20</td>\n",
       "      <td>sweet</td>\n",
       "      <td>dessert</td>\n",
       "      <td>All State</td>\n",
       "      <td>-1</td>\n",
       "    </tr>\n",
       "    <tr>\n",
       "      <th>9</th>\n",
       "      <td>kheer</td>\n",
       "      <td>Milk, rice, sugar, dried fruits</td>\n",
       "      <td>vegetarian</td>\n",
       "      <td>10</td>\n",
       "      <td>40</td>\n",
       "      <td>sweet</td>\n",
       "      <td>dessert</td>\n",
       "      <td>All State</td>\n",
       "      <td>-1</td>\n",
       "    </tr>\n",
       "    <tr>\n",
       "      <th>10</th>\n",
       "      <td>laddu</td>\n",
       "      <td>Gram flour, ghee, sugar</td>\n",
       "      <td>vegetarian</td>\n",
       "      <td>10</td>\n",
       "      <td>40</td>\n",
       "      <td>sweet</td>\n",
       "      <td>dessert</td>\n",
       "      <td>All State</td>\n",
       "      <td>-1</td>\n",
       "    </tr>\n",
       "    <tr>\n",
       "      <th>12</th>\n",
       "      <td>nankhatai</td>\n",
       "      <td>Refined flour, besan, ghee, powdered sugar, yo...</td>\n",
       "      <td>vegetarian</td>\n",
       "      <td>20</td>\n",
       "      <td>30</td>\n",
       "      <td>sweet</td>\n",
       "      <td>dessert</td>\n",
       "      <td>All State</td>\n",
       "      <td>-1</td>\n",
       "    </tr>\n",
       "    <tr>\n",
       "      <th>94</th>\n",
       "      <td>khichdi</td>\n",
       "      <td>Moong dal, green peas, ginger, tomato, green c...</td>\n",
       "      <td>vegetarian</td>\n",
       "      <td>40</td>\n",
       "      <td>20</td>\n",
       "      <td>spicy</td>\n",
       "      <td>main course</td>\n",
       "      <td>All State</td>\n",
       "      <td>-1</td>\n",
       "    </tr>\n",
       "  </tbody>\n",
       "</table>\n",
       "</div>"
      ],
      "text/plain": [
       "          name                                        ingredients        diet  \\\n",
       "7   kaju katli                     Cashews, ghee, cardamom, sugar  vegetarian   \n",
       "9        kheer                    Milk, rice, sugar, dried fruits  vegetarian   \n",
       "10       laddu                            Gram flour, ghee, sugar  vegetarian   \n",
       "12   nankhatai  Refined flour, besan, ghee, powdered sugar, yo...  vegetarian   \n",
       "94     khichdi  Moong dal, green peas, ginger, tomato, green c...  vegetarian   \n",
       "\n",
       "    prep_time  cook_time flavor_profile       course      state region  \n",
       "7          10         20          sweet      dessert  All State     -1  \n",
       "9          10         40          sweet      dessert  All State     -1  \n",
       "10         10         40          sweet      dessert  All State     -1  \n",
       "12         20         30          sweet      dessert  All State     -1  \n",
       "94         40         20          spicy  main course  All State     -1  "
      ]
     },
     "execution_count": 30,
     "metadata": {},
     "output_type": "execute_result"
    }
   ],
   "source": [
    "# In region columns we don't have any NaN value but we have a -1 value which likely to NaN value\n",
    "\n",
    "# let's look at the data where Region is -1\n",
    "\n",
    "main_data[main_data.region == \"-1\"].head()"
   ]
  },
  {
   "cell_type": "code",
   "execution_count": 31,
   "metadata": {},
   "outputs": [],
   "source": [
    "# so i research this on internet and i found that there are some of the dishes which are famous and common to\n",
    "# all the over the india\n",
    "# so to prevent this outlier i replace \"-1\" with All Region\n",
    "\n",
    "main_data.region = main_data.region.replace(\"-1\", \"All Region\")"
   ]
  },
  {
   "cell_type": "code",
   "execution_count": 32,
   "metadata": {},
   "outputs": [
    {
     "data": {
      "image/png": "[encoded data removed]",
      "text/plain": [
       "<Figure size 864x432 with 1 Axes>"
      ]
     },
     "metadata": {},
     "output_type": "display_data"
    }
   ],
   "source": [
    "# let's plot number of dishes are famous in particular region of india\n",
    "\n",
    "sns.countplot(data = main_data, x = \"region\")\n",
    "plt.title(\"Number of Dishes which are famous or born in the Region of India\")\n",
    "plt.xlabel(\"Region\")\n",
    "plt.show()"
   ]
  },
  {
   "cell_type": "markdown",
   "metadata": {},
   "source": [
    "###### observation: Here different dishes are coming from different region of india but most of the dishes are coming from West and South side"
   ]
  },
  {
   "cell_type": "markdown",
   "metadata": {},
   "source": [
    "##### EDA of prep time and cook time"
   ]
  },
  {
   "cell_type": "code",
   "execution_count": 33,
   "metadata": {},
   "outputs": [
    {
     "data": {
      "text/plain": [
       "array([ 45,  80,  15,  10,  20,   5,  30,  -1,  40,  25, 480, 180, 240,\n",
       "       120,  60, 500, 150, 360, 495,  70,  35,  12])"
      ]
     },
     "execution_count": 33,
     "metadata": {},
     "output_type": "execute_result"
    }
   ],
   "source": [
    "# let's look at the prep time\n",
    "main_data.prep_time.unique()"
   ]
  },
  {
   "cell_type": "code",
   "execution_count": 34,
   "metadata": {},
   "outputs": [
    {
     "data": {
      "text/html": [
       "<div>\n",
       "<style scoped>\n",
       "    .dataframe tbody tr th:only-of-type {\n",
       "        vertical-align: middle;\n",
       "    }\n",
       "\n",
       "    .dataframe tbody tr th {\n",
       "        vertical-align: top;\n",
       "    }\n",
       "\n",
       "    .dataframe thead th {\n",
       "        text-align: right;\n",
       "    }\n",
       "</style>\n",
       "<table border=\"1\" class=\"dataframe\">\n",
       "  <thead>\n",
       "    <tr style=\"text-align: right;\">\n",
       "      <th></th>\n",
       "      <th>name</th>\n",
       "      <th>ingredients</th>\n",
       "      <th>diet</th>\n",
       "      <th>prep_time</th>\n",
       "      <th>cook_time</th>\n",
       "      <th>flavor_profile</th>\n",
       "      <th>course</th>\n",
       "      <th>state</th>\n",
       "      <th>region</th>\n",
       "    </tr>\n",
       "  </thead>\n",
       "  <tbody>\n",
       "    <tr>\n",
       "      <th>19</th>\n",
       "      <td>sohan papdi</td>\n",
       "      <td>Gram flour, ghee, sugar, milk, cardamom</td>\n",
       "      <td>vegetarian</td>\n",
       "      <td>-1</td>\n",
       "      <td>60</td>\n",
       "      <td>sweet</td>\n",
       "      <td>dessert</td>\n",
       "      <td>Maharashtra</td>\n",
       "      <td>West</td>\n",
       "    </tr>\n",
       "    <tr>\n",
       "      <th>21</th>\n",
       "      <td>chhena kheeri</td>\n",
       "      <td>Chhena, sugar, milk</td>\n",
       "      <td>vegetarian</td>\n",
       "      <td>-1</td>\n",
       "      <td>60</td>\n",
       "      <td>sweet</td>\n",
       "      <td>dessert</td>\n",
       "      <td>Odisha</td>\n",
       "      <td>East</td>\n",
       "    </tr>\n",
       "    <tr>\n",
       "      <th>65</th>\n",
       "      <td>pork bharta</td>\n",
       "      <td>Boiled pork, onions, chillies, ginger and garlic</td>\n",
       "      <td>non-vegetarian</td>\n",
       "      <td>-1</td>\n",
       "      <td>-1</td>\n",
       "      <td>spicy</td>\n",
       "      <td>main course</td>\n",
       "      <td>Tripura</td>\n",
       "      <td>North East</td>\n",
       "    </tr>\n",
       "    <tr>\n",
       "      <th>132</th>\n",
       "      <td>kaara kozhambu</td>\n",
       "      <td>Sesame oil, drumstick, tamarind paste, sambar ...</td>\n",
       "      <td>vegetarian</td>\n",
       "      <td>-1</td>\n",
       "      <td>-1</td>\n",
       "      <td>spicy</td>\n",
       "      <td>main course</td>\n",
       "      <td>Tamil Nadu</td>\n",
       "      <td>South</td>\n",
       "    </tr>\n",
       "    <tr>\n",
       "      <th>134</th>\n",
       "      <td>keerai masiyal</td>\n",
       "      <td>Urad dal, curry leaves, sugar, mustard seeds, ...</td>\n",
       "      <td>vegetarian</td>\n",
       "      <td>-1</td>\n",
       "      <td>-1</td>\n",
       "      <td>spicy</td>\n",
       "      <td>main course</td>\n",
       "      <td>Tamil Nadu</td>\n",
       "      <td>South</td>\n",
       "    </tr>\n",
       "  </tbody>\n",
       "</table>\n",
       "</div>"
      ],
      "text/plain": [
       "               name                                        ingredients  \\\n",
       "19      sohan papdi            Gram flour, ghee, sugar, milk, cardamom   \n",
       "21    chhena kheeri                                Chhena, sugar, milk   \n",
       "65      pork bharta   Boiled pork, onions, chillies, ginger and garlic   \n",
       "132  kaara kozhambu  Sesame oil, drumstick, tamarind paste, sambar ...   \n",
       "134  keerai masiyal  Urad dal, curry leaves, sugar, mustard seeds, ...   \n",
       "\n",
       "               diet  prep_time  cook_time flavor_profile       course  \\\n",
       "19       vegetarian         -1         60          sweet      dessert   \n",
       "21       vegetarian         -1         60          sweet      dessert   \n",
       "65   non-vegetarian         -1         -1          spicy  main course   \n",
       "132      vegetarian         -1         -1          spicy  main course   \n",
       "134      vegetarian         -1         -1          spicy  main course   \n",
       "\n",
       "           state      region  \n",
       "19   Maharashtra        West  \n",
       "21        Odisha        East  \n",
       "65       Tripura  North East  \n",
       "132   Tamil Nadu       South  \n",
       "134   Tamil Nadu       South  "
      ]
     },
     "execution_count": 34,
     "metadata": {},
     "output_type": "execute_result"
    }
   ],
   "source": [
    "# in prep time i found that there are -1 value which is our outlier in this case\n",
    "\n",
    "# let's look at the data where prep time is -1\n",
    "\n",
    "main_data.loc[main_data.prep_time == -1].head()\n",
    "\n",
    "# here are some dishes which i don't have any prep time, i'll solve it later"
   ]
  },
  {
   "cell_type": "code",
   "execution_count": 35,
   "metadata": {},
   "outputs": [
    {
     "data": {
      "text/plain": [
       "array([ 25,  30,  60,  40,  50,  20,   5,  45, 120,  35,  90,  75,  15,\n",
       "       720,  55,  -1,  10,   2,   6])"
      ]
     },
     "execution_count": 35,
     "metadata": {},
     "output_type": "execute_result"
    }
   ],
   "source": [
    "# let's look at th cook time\n",
    "\n",
    "main_data.cook_time.unique()"
   ]
  },
  {
   "cell_type": "code",
   "execution_count": 36,
   "metadata": {},
   "outputs": [
    {
     "data": {
      "text/html": [
       "<div>\n",
       "<style scoped>\n",
       "    .dataframe tbody tr th:only-of-type {\n",
       "        vertical-align: middle;\n",
       "    }\n",
       "\n",
       "    .dataframe tbody tr th {\n",
       "        vertical-align: top;\n",
       "    }\n",
       "\n",
       "    .dataframe thead th {\n",
       "        text-align: right;\n",
       "    }\n",
       "</style>\n",
       "<table border=\"1\" class=\"dataframe\">\n",
       "  <thead>\n",
       "    <tr style=\"text-align: right;\">\n",
       "      <th></th>\n",
       "      <th>name</th>\n",
       "      <th>ingredients</th>\n",
       "      <th>diet</th>\n",
       "      <th>prep_time</th>\n",
       "      <th>cook_time</th>\n",
       "      <th>flavor_profile</th>\n",
       "      <th>course</th>\n",
       "      <th>state</th>\n",
       "      <th>region</th>\n",
       "    </tr>\n",
       "  </thead>\n",
       "  <tbody>\n",
       "    <tr>\n",
       "      <th>65</th>\n",
       "      <td>pork bharta</td>\n",
       "      <td>Boiled pork, onions, chillies, ginger and garlic</td>\n",
       "      <td>non-vegetarian</td>\n",
       "      <td>-1</td>\n",
       "      <td>-1</td>\n",
       "      <td>spicy</td>\n",
       "      <td>main course</td>\n",
       "      <td>Tripura</td>\n",
       "      <td>North East</td>\n",
       "    </tr>\n",
       "    <tr>\n",
       "      <th>132</th>\n",
       "      <td>kaara kozhambu</td>\n",
       "      <td>Sesame oil, drumstick, tamarind paste, sambar ...</td>\n",
       "      <td>vegetarian</td>\n",
       "      <td>-1</td>\n",
       "      <td>-1</td>\n",
       "      <td>spicy</td>\n",
       "      <td>main course</td>\n",
       "      <td>Tamil Nadu</td>\n",
       "      <td>South</td>\n",
       "    </tr>\n",
       "    <tr>\n",
       "      <th>134</th>\n",
       "      <td>keerai masiyal</td>\n",
       "      <td>Urad dal, curry leaves, sugar, mustard seeds, ...</td>\n",
       "      <td>vegetarian</td>\n",
       "      <td>-1</td>\n",
       "      <td>-1</td>\n",
       "      <td>spicy</td>\n",
       "      <td>main course</td>\n",
       "      <td>Tamil Nadu</td>\n",
       "      <td>South</td>\n",
       "    </tr>\n",
       "    <tr>\n",
       "      <th>148</th>\n",
       "      <td>paravannam</td>\n",
       "      <td>Raw rice,  jaggery, milk</td>\n",
       "      <td>vegetarian</td>\n",
       "      <td>-1</td>\n",
       "      <td>-1</td>\n",
       "      <td>spicy</td>\n",
       "      <td>main course</td>\n",
       "      <td>Kerala</td>\n",
       "      <td>South</td>\n",
       "    </tr>\n",
       "    <tr>\n",
       "      <th>152</th>\n",
       "      <td>poriyal</td>\n",
       "      <td>Chana dal, urad dal, beans, coconut, mustard</td>\n",
       "      <td>vegetarian</td>\n",
       "      <td>-1</td>\n",
       "      <td>-1</td>\n",
       "      <td>spicy</td>\n",
       "      <td>main course</td>\n",
       "      <td>Tamil Nadu</td>\n",
       "      <td>South</td>\n",
       "    </tr>\n",
       "  </tbody>\n",
       "</table>\n",
       "</div>"
      ],
      "text/plain": [
       "               name                                        ingredients  \\\n",
       "65      pork bharta   Boiled pork, onions, chillies, ginger and garlic   \n",
       "132  kaara kozhambu  Sesame oil, drumstick, tamarind paste, sambar ...   \n",
       "134  keerai masiyal  Urad dal, curry leaves, sugar, mustard seeds, ...   \n",
       "148      paravannam                           Raw rice,  jaggery, milk   \n",
       "152         poriyal       Chana dal, urad dal, beans, coconut, mustard   \n",
       "\n",
       "               diet  prep_time  cook_time flavor_profile       course  \\\n",
       "65   non-vegetarian         -1         -1          spicy  main course   \n",
       "132      vegetarian         -1         -1          spicy  main course   \n",
       "134      vegetarian         -1         -1          spicy  main course   \n",
       "148      vegetarian         -1         -1          spicy  main course   \n",
       "152      vegetarian         -1         -1          spicy  main course   \n",
       "\n",
       "          state      region  \n",
       "65      Tripura  North East  \n",
       "132  Tamil Nadu       South  \n",
       "134  Tamil Nadu       South  \n",
       "148      Kerala       South  \n",
       "152  Tamil Nadu       South  "
      ]
     },
     "execution_count": 36,
     "metadata": {},
     "output_type": "execute_result"
    }
   ],
   "source": [
    "# in cook time i found that there are value -1 which is outlier\n",
    "\n",
    "# let's look at the data where cook time value is -1\n",
    "\n",
    "main_data.loc[main_data.cook_time == -1].head()\n",
    "# here some of dishes which i don't have a cook time, i will solve it later"
   ]
  },
  {
   "cell_type": "code",
   "execution_count": 37,
   "metadata": {},
   "outputs": [
    {
     "data": {
      "text/plain": [
       "<matplotlib.axes._subplots.AxesSubplot at 0x7f9ddfd0a820>"
      ]
     },
     "execution_count": 37,
     "metadata": {},
     "output_type": "execute_result"
    },
    {
     "data": {
      "image/png": "[encoded data removed]",
      "text/plain": [
       "<Figure size 864x432 with 1 Axes>"
      ]
     },
     "metadata": {},
     "output_type": "display_data"
    }
   ],
   "source": [
    "# let's plot prep time and cook time\n",
    "\n",
    "sns.scatterplot(data = main_data, x = \"prep_time\", y = \"cook_time\",hue = \"diet\", palette=[\"green\", \"red\"])"
   ]
  },
  {
   "cell_type": "markdown",
   "metadata": {},
   "source": [
    "###### observation: veg and non-veg dishes take a similar amount of time"
   ]
  },
  {
   "cell_type": "markdown",
   "metadata": {},
   "source": [
    "##### EDA of Ingredients"
   ]
  },
  {
   "cell_type": "code",
   "execution_count": 38,
   "metadata": {},
   "outputs": [
    {
     "data": {
      "text/plain": [
       "255"
      ]
     },
     "execution_count": 38,
     "metadata": {},
     "output_type": "execute_result"
    }
   ],
   "source": [
    "# let's look at to the ingrediets which are used to make a particular dish\n",
    "\n",
    "# first let's convert all ingredients into lower case for preventing case sensitive\n",
    "main_data.ingredients = main_data.ingredients.str.lower()\n",
    "# so here ingredients are a comman seprated\n",
    "# let's split those ingredits and divide into veg and non-veg proporation\n",
    "\n",
    "veg_ingredients = main_data.loc[main_data.diet == \"vegetarian\", \"ingredients\"]\n",
    "non_veg_ingredients = main_data.loc[main_data.diet == \"non-vegetarian\", \"ingredients\"]\n",
    "\n",
    "# let's check size of both ingredients and verify the whether the ingredients of all dishes are stored or not\n",
    "# our total dishes are 255\n",
    "veg_ingredients.size + non_veg_ingredients.size"
   ]
  },
  {
   "cell_type": "code",
   "execution_count": 39,
   "metadata": {},
   "outputs": [
    {
     "data": {
      "text/plain": [
       "0                   [maida flour,  yogurt,  oil,  sugar]\n",
       "1                            [gram flour,  ghee,  sugar]\n",
       "2      [carrots,  milk,  sugar,  ghee,  cashews,  rai...\n",
       "3      [flour,  ghee,  kewra,  milk,  clarified butte...\n",
       "4      [milk powder,  plain flour,  baking powder,  g...\n",
       "                             ...                        \n",
       "250          [glutinous rice,  black sesame seeds,  gur]\n",
       "251    [coconut milk,  egg yolks,  clarified butter, ...\n",
       "252    [cottage cheese,  dry dates,  dried rose petal...\n",
       "253    [milk powder,  dry fruits,  arrowroot powder, ...\n",
       "254    [brown rice,  fennel seeds,  grated coconut,  ...\n",
       "Name: ingredients, Length: 226, dtype: object"
      ]
     },
     "execution_count": 39,
     "metadata": {},
     "output_type": "execute_result"
    }
   ],
   "source": [
    "veg_ingredients.str.split(\",\")"
   ]
  },
  {
   "cell_type": "code",
   "execution_count": 40,
   "metadata": {},
   "outputs": [],
   "source": [
    "# let's count those ingredients for getting that how many dishes are used that particular ingrediets\n",
    "\n",
    "# let's remove unnecessary space\n",
    "\n",
    "veg_ingredients = veg_ingredients.str.strip()\n",
    "non_veg_ingredients = non_veg_ingredients.str.strip()\n",
    "\n",
    "veg_cleaned_ingredients = []\n",
    "non_veg_cleaned_ingredients = []\n",
    "\n",
    "for i in veg_ingredients.str.split(\",\"): # split by \",\" & iterate through all the ingredients and append it to list\n",
    "    veg_cleaned_ingredients += i\n",
    "\n",
    "for i in non_veg_ingredients.str.split(\",\"):#split by , & iterate through all the ingredients and append it to list\n",
    "    non_veg_cleaned_ingredients += i"
   ]
  },
  {
   "cell_type": "code",
   "execution_count": 41,
   "metadata": {},
   "outputs": [],
   "source": [
    "# let's make a series of veg and non veg ingredients\n",
    "\n",
    "final_veg_ingredients = pd.Series(veg_cleaned_ingredients)\n",
    "final_non_veg_ingredients = pd.Series(non_veg_cleaned_ingredients)\n",
    "\n",
    "# let's remove extra spaces\n",
    "final_veg_ingredients = final_veg_ingredients.str.strip()\n",
    "final_non_veg_ingredients = final_non_veg_ingredients.str.strip()\n",
    "\n",
    "# let's count how many tim ingredients are repeated and make a data frame\n",
    "final_veg_ingredients = final_veg_ingredients.value_counts().reset_index()\n",
    "final_veg_ingredients.columns = [\"ingredients\", \"count\"]\n",
    "\n",
    "final_non_veg_ingredients = final_non_veg_ingredients.value_counts().reset_index()\n",
    "final_non_veg_ingredients.columns = [\"ingredients\", \"count\"]"
   ]
  },
  {
   "cell_type": "code",
   "execution_count": 42,
   "metadata": {},
   "outputs": [
    {
     "data": {
      "image/png": "[encoded data removed]",
      "text/plain": [
       "<Figure size 864x432 with 1 Axes>"
      ]
     },
     "metadata": {},
     "output_type": "display_data"
    }
   ],
   "source": [
    "# let's plot a top 20 vegetarian ingredients\n",
    "\n",
    "sns.barplot(data = final_veg_ingredients.head(20), x = \"count\", y = \"ingredients\")\n",
    "plt.title(\"Top 20 Ingredients for Vegetarian Dishes\")\n",
    "plt.show()"
   ]
  },
  {
   "cell_type": "code",
   "execution_count": 43,
   "metadata": {},
   "outputs": [
    {
     "data": {
      "image/png": "[encoded data removed]",
      "text/plain": [
       "<Figure size 864x432 with 1 Axes>"
      ]
     },
     "metadata": {},
     "output_type": "display_data"
    }
   ],
   "source": [
    "# let's plot top 20 no vegetarian ingredients\n",
    "\n",
    "sns.barplot(data = final_non_veg_ingredients.head(20), x = \"count\", y = \"ingredients\")\n",
    "plt.title(\"Top 20 Ingredients for Non-Vegetarian Dishes\")\n",
    "plt.show()"
   ]
  },
  {
   "cell_type": "markdown",
   "metadata": {},
   "source": [
    "###### observation: most of the ingredients are different in vegetarian and non-vegetarian dishes"
   ]
  },
  {
   "cell_type": "markdown",
   "metadata": {},
   "source": [
    "### Feature Engineering"
   ]
  },
  {
   "cell_type": "markdown",
   "metadata": {},
   "source": [
    "###### here i take all the features except prep_time and cook_time because there are some value missing in prep _time and cook_time features"
   ]
  },
  {
   "cell_type": "code",
   "execution_count": 44,
   "metadata": {},
   "outputs": [
    {
     "data": {
      "text/html": [
       "<div>\n",
       "<style scoped>\n",
       "    .dataframe tbody tr th:only-of-type {\n",
       "        vertical-align: middle;\n",
       "    }\n",
       "\n",
       "    .dataframe tbody tr th {\n",
       "        vertical-align: top;\n",
       "    }\n",
       "\n",
       "    .dataframe thead th {\n",
       "        text-align: right;\n",
       "    }\n",
       "</style>\n",
       "<table border=\"1\" class=\"dataframe\">\n",
       "  <thead>\n",
       "    <tr style=\"text-align: right;\">\n",
       "      <th></th>\n",
       "      <th>name</th>\n",
       "      <th>ingredients</th>\n",
       "      <th>diet</th>\n",
       "      <th>prep_time</th>\n",
       "      <th>cook_time</th>\n",
       "      <th>flavor_profile</th>\n",
       "      <th>course</th>\n",
       "      <th>state</th>\n",
       "      <th>region</th>\n",
       "    </tr>\n",
       "  </thead>\n",
       "  <tbody>\n",
       "    <tr>\n",
       "      <th>0</th>\n",
       "      <td>balu shahi</td>\n",
       "      <td>maida flour, yogurt, oil, sugar</td>\n",
       "      <td>vegetarian</td>\n",
       "      <td>45</td>\n",
       "      <td>25</td>\n",
       "      <td>sweet</td>\n",
       "      <td>dessert</td>\n",
       "      <td>West Bengal</td>\n",
       "      <td>East</td>\n",
       "    </tr>\n",
       "    <tr>\n",
       "      <th>1</th>\n",
       "      <td>boondi</td>\n",
       "      <td>gram flour, ghee, sugar</td>\n",
       "      <td>vegetarian</td>\n",
       "      <td>80</td>\n",
       "      <td>30</td>\n",
       "      <td>sweet</td>\n",
       "      <td>dessert</td>\n",
       "      <td>Rajasthan</td>\n",
       "      <td>West</td>\n",
       "    </tr>\n",
       "    <tr>\n",
       "      <th>2</th>\n",
       "      <td>gajar ka halwa</td>\n",
       "      <td>carrots, milk, sugar, ghee, cashews, raisins</td>\n",
       "      <td>vegetarian</td>\n",
       "      <td>15</td>\n",
       "      <td>60</td>\n",
       "      <td>sweet</td>\n",
       "      <td>dessert</td>\n",
       "      <td>Punjab</td>\n",
       "      <td>North</td>\n",
       "    </tr>\n",
       "    <tr>\n",
       "      <th>3</th>\n",
       "      <td>ghevar</td>\n",
       "      <td>flour, ghee, kewra, milk, clarified butter, su...</td>\n",
       "      <td>vegetarian</td>\n",
       "      <td>15</td>\n",
       "      <td>30</td>\n",
       "      <td>sweet</td>\n",
       "      <td>dessert</td>\n",
       "      <td>Rajasthan</td>\n",
       "      <td>West</td>\n",
       "    </tr>\n",
       "    <tr>\n",
       "      <th>4</th>\n",
       "      <td>gulab jamun</td>\n",
       "      <td>milk powder, plain flour, baking powder, ghee,...</td>\n",
       "      <td>vegetarian</td>\n",
       "      <td>15</td>\n",
       "      <td>40</td>\n",
       "      <td>sweet</td>\n",
       "      <td>dessert</td>\n",
       "      <td>West Bengal</td>\n",
       "      <td>East</td>\n",
       "    </tr>\n",
       "  </tbody>\n",
       "</table>\n",
       "</div>"
      ],
      "text/plain": [
       "             name                                        ingredients  \\\n",
       "0      balu shahi                    maida flour, yogurt, oil, sugar   \n",
       "1          boondi                            gram flour, ghee, sugar   \n",
       "2  gajar ka halwa       carrots, milk, sugar, ghee, cashews, raisins   \n",
       "3          ghevar  flour, ghee, kewra, milk, clarified butter, su...   \n",
       "4     gulab jamun  milk powder, plain flour, baking powder, ghee,...   \n",
       "\n",
       "         diet  prep_time  cook_time flavor_profile   course        state  \\\n",
       "0  vegetarian         45         25          sweet  dessert  West Bengal   \n",
       "1  vegetarian         80         30          sweet  dessert    Rajasthan   \n",
       "2  vegetarian         15         60          sweet  dessert       Punjab   \n",
       "3  vegetarian         15         30          sweet  dessert    Rajasthan   \n",
       "4  vegetarian         15         40          sweet  dessert  West Bengal   \n",
       "\n",
       "  region  \n",
       "0   East  \n",
       "1   West  \n",
       "2  North  \n",
       "3   West  \n",
       "4   East  "
      ]
     },
     "execution_count": 44,
     "metadata": {},
     "output_type": "execute_result"
    }
   ],
   "source": [
    "# features i have to take all are categorical features so let's transform it into numeric using one hot encoding\n",
    "\n",
    "data = main_data.copy()\n",
    "data.head()"
   ]
  },
  {
   "cell_type": "markdown",
   "metadata": {},
   "source": [
    "##### feature selection of ingredients\n",
    "- Here I have a so many ingredients which are used in indian cuisine\n",
    "- I take only top 20 vegetarian ingredients and top 20 non-vegetarian ingredients as my features"
   ]
  },
  {
   "cell_type": "code",
   "execution_count": 45,
   "metadata": {},
   "outputs": [
    {
     "data": {
      "text/html": [
       "<div>\n",
       "<style scoped>\n",
       "    .dataframe tbody tr th:only-of-type {\n",
       "        vertical-align: middle;\n",
       "    }\n",
       "\n",
       "    .dataframe tbody tr th {\n",
       "        vertical-align: top;\n",
       "    }\n",
       "\n",
       "    .dataframe thead th {\n",
       "        text-align: right;\n",
       "    }\n",
       "</style>\n",
       "<table border=\"1\" class=\"dataframe\">\n",
       "  <thead>\n",
       "    <tr style=\"text-align: right;\">\n",
       "      <th></th>\n",
       "      <th>ingredients</th>\n",
       "      <th>count</th>\n",
       "    </tr>\n",
       "  </thead>\n",
       "  <tbody>\n",
       "    <tr>\n",
       "      <th>0</th>\n",
       "      <td>sugar</td>\n",
       "      <td>47</td>\n",
       "    </tr>\n",
       "    <tr>\n",
       "      <th>1</th>\n",
       "      <td>ghee</td>\n",
       "      <td>25</td>\n",
       "    </tr>\n",
       "    <tr>\n",
       "      <th>2</th>\n",
       "      <td>urad dal</td>\n",
       "      <td>25</td>\n",
       "    </tr>\n",
       "    <tr>\n",
       "      <th>3</th>\n",
       "      <td>curry leaves</td>\n",
       "      <td>24</td>\n",
       "    </tr>\n",
       "    <tr>\n",
       "      <th>4</th>\n",
       "      <td>garam masala</td>\n",
       "      <td>23</td>\n",
       "    </tr>\n",
       "  </tbody>\n",
       "</table>\n",
       "</div>"
      ],
      "text/plain": [
       "    ingredients  count\n",
       "0         sugar     47\n",
       "1          ghee     25\n",
       "2      urad dal     25\n",
       "3  curry leaves     24\n",
       "4  garam masala     23"
      ]
     },
     "execution_count": 45,
     "metadata": {},
     "output_type": "execute_result"
    }
   ],
   "source": [
    "# let's take top 20 veg and non-veg ingredients and merge it and make our final ingredient feature\n",
    "\n",
    "top_veg_ingredients = final_veg_ingredients.head(20)\n",
    "top_non_veg_ingredients = final_non_veg_ingredients.head(20)\n",
    "\n",
    "# here let's append both and make our final ingredients\n",
    "\n",
    "final_ingredients = top_veg_ingredients.append(top_non_veg_ingredients).reset_index(drop = True)\n",
    "final_ingredients.head()"
   ]
  },
  {
   "cell_type": "code",
   "execution_count": 46,
   "metadata": {},
   "outputs": [
    {
     "data": {
      "text/html": [
       "<div>\n",
       "<style scoped>\n",
       "    .dataframe tbody tr th:only-of-type {\n",
       "        vertical-align: middle;\n",
       "    }\n",
       "\n",
       "    .dataframe tbody tr th {\n",
       "        vertical-align: top;\n",
       "    }\n",
       "\n",
       "    .dataframe thead th {\n",
       "        text-align: right;\n",
       "    }\n",
       "</style>\n",
       "<table border=\"1\" class=\"dataframe\">\n",
       "  <thead>\n",
       "    <tr style=\"text-align: right;\">\n",
       "      <th></th>\n",
       "      <th>ingredients</th>\n",
       "      <th>count</th>\n",
       "    </tr>\n",
       "  </thead>\n",
       "  <tbody>\n",
       "    <tr>\n",
       "      <th>4</th>\n",
       "      <td>garam masala</td>\n",
       "      <td>23</td>\n",
       "    </tr>\n",
       "    <tr>\n",
       "      <th>5</th>\n",
       "      <td>ginger</td>\n",
       "      <td>23</td>\n",
       "    </tr>\n",
       "    <tr>\n",
       "      <th>8</th>\n",
       "      <td>rice flour</td>\n",
       "      <td>18</td>\n",
       "    </tr>\n",
       "    <tr>\n",
       "      <th>10</th>\n",
       "      <td>tomato</td>\n",
       "      <td>13</td>\n",
       "    </tr>\n",
       "    <tr>\n",
       "      <th>18</th>\n",
       "      <td>garam masala powder</td>\n",
       "      <td>9</td>\n",
       "    </tr>\n",
       "    <tr>\n",
       "      <th>21</th>\n",
       "      <td>ginger</td>\n",
       "      <td>6</td>\n",
       "    </tr>\n",
       "    <tr>\n",
       "      <th>23</th>\n",
       "      <td>garam masala</td>\n",
       "      <td>4</td>\n",
       "    </tr>\n",
       "    <tr>\n",
       "      <th>24</th>\n",
       "      <td>garam masala powder</td>\n",
       "      <td>4</td>\n",
       "    </tr>\n",
       "    <tr>\n",
       "      <th>28</th>\n",
       "      <td>tomato</td>\n",
       "      <td>3</td>\n",
       "    </tr>\n",
       "    <tr>\n",
       "      <th>31</th>\n",
       "      <td>rice flour</td>\n",
       "      <td>3</td>\n",
       "    </tr>\n",
       "  </tbody>\n",
       "</table>\n",
       "</div>"
      ],
      "text/plain": [
       "            ingredients  count\n",
       "4          garam masala     23\n",
       "5                ginger     23\n",
       "8            rice flour     18\n",
       "10               tomato     13\n",
       "18  garam masala powder      9\n",
       "21               ginger      6\n",
       "23         garam masala      4\n",
       "24  garam masala powder      4\n",
       "28               tomato      3\n",
       "31           rice flour      3"
      ]
     },
     "execution_count": 46,
     "metadata": {},
     "output_type": "execute_result"
    }
   ],
   "source": [
    "# here i took a ingredients separately from vegetarian and non vegetarian so that might be chance that it has some\n",
    "# duplicate ingredients so let's check it\n",
    "\n",
    "final_ingredients[final_ingredients.ingredients.duplicated(keep = False)]"
   ]
  },
  {
   "cell_type": "code",
   "execution_count": 47,
   "metadata": {},
   "outputs": [
    {
     "data": {
      "text/html": [
       "<div>\n",
       "<style scoped>\n",
       "    .dataframe tbody tr th:only-of-type {\n",
       "        vertical-align: middle;\n",
       "    }\n",
       "\n",
       "    .dataframe tbody tr th {\n",
       "        vertical-align: top;\n",
       "    }\n",
       "\n",
       "    .dataframe thead th {\n",
       "        text-align: right;\n",
       "    }\n",
       "</style>\n",
       "<table border=\"1\" class=\"dataframe\">\n",
       "  <thead>\n",
       "    <tr style=\"text-align: right;\">\n",
       "      <th></th>\n",
       "      <th>ingredients</th>\n",
       "      <th>count</th>\n",
       "    </tr>\n",
       "  </thead>\n",
       "  <tbody>\n",
       "    <tr>\n",
       "      <th>0</th>\n",
       "      <td>sugar</td>\n",
       "      <td>47</td>\n",
       "    </tr>\n",
       "    <tr>\n",
       "      <th>1</th>\n",
       "      <td>ginger</td>\n",
       "      <td>29</td>\n",
       "    </tr>\n",
       "    <tr>\n",
       "      <th>2</th>\n",
       "      <td>garam masala</td>\n",
       "      <td>27</td>\n",
       "    </tr>\n",
       "    <tr>\n",
       "      <th>3</th>\n",
       "      <td>urad dal</td>\n",
       "      <td>25</td>\n",
       "    </tr>\n",
       "    <tr>\n",
       "      <th>4</th>\n",
       "      <td>ghee</td>\n",
       "      <td>25</td>\n",
       "    </tr>\n",
       "  </tbody>\n",
       "</table>\n",
       "</div>"
      ],
      "text/plain": [
       "    ingredients  count\n",
       "0         sugar     47\n",
       "1        ginger     29\n",
       "2  garam masala     27\n",
       "3      urad dal     25\n",
       "4          ghee     25"
      ]
     },
     "execution_count": 47,
     "metadata": {},
     "output_type": "execute_result"
    }
   ],
   "source": [
    "# so here i can see that some of the ingredients are found as duplicated so let's merge it using group by\n",
    "\n",
    "final_ingredients = final_ingredients.groupby(\"ingredients\")[\"count\"].sum().reset_index()\n",
    "\n",
    "# let's sort it by count\n",
    "\n",
    "final_ingredients = final_ingredients.sort_values(\"count\", ascending = False).reset_index(drop = True)\n",
    "final_ingredients.head()"
   ]
  },
  {
   "cell_type": "code",
   "execution_count": 48,
   "metadata": {},
   "outputs": [
    {
     "data": {
      "text/plain": [
       "35"
      ]
     },
     "execution_count": 48,
     "metadata": {},
     "output_type": "execute_result"
    }
   ],
   "source": [
    "# let's find out the total ingredients\n",
    "\n",
    "final_ingredients.ingredients.nunique()\n",
    "# so we have total 35 ingredients"
   ]
  },
  {
   "cell_type": "code",
   "execution_count": 49,
   "metadata": {},
   "outputs": [],
   "source": [
    "# now let's do one hot encoding to ingredients\n",
    "# so here in our data set i have a comma separated ingredients so i use contain() of string to match\n",
    "# our final ingredients and if it is found then i put 1 other wise 0\n",
    "\n",
    "\n",
    "for i in final_ingredients.ingredients:\n",
    "    data[i] = 0 # here i create a column of particular ingredients and assign all value as 0\n",
    "    data.loc[data.ingredients.str.contains(\"sugar\"), [i]] = 1\n",
    "    # above i put 1 on that column which dishes has include that particular ingredients"
   ]
  },
  {
   "cell_type": "code",
   "execution_count": 50,
   "metadata": {},
   "outputs": [
    {
     "data": {
      "text/html": [
       "<div>\n",
       "<style scoped>\n",
       "    .dataframe tbody tr th:only-of-type {\n",
       "        vertical-align: middle;\n",
       "    }\n",
       "\n",
       "    .dataframe tbody tr th {\n",
       "        vertical-align: top;\n",
       "    }\n",
       "\n",
       "    .dataframe thead th {\n",
       "        text-align: right;\n",
       "    }\n",
       "</style>\n",
       "<table border=\"1\" class=\"dataframe\">\n",
       "  <thead>\n",
       "    <tr style=\"text-align: right;\">\n",
       "      <th></th>\n",
       "      <th>name</th>\n",
       "      <th>ingredients</th>\n",
       "      <th>diet</th>\n",
       "      <th>prep_time</th>\n",
       "      <th>cook_time</th>\n",
       "      <th>flavor_profile</th>\n",
       "      <th>course</th>\n",
       "      <th>state</th>\n",
       "      <th>region</th>\n",
       "      <th>sugar</th>\n",
       "      <th>...</th>\n",
       "      <th>bay leaf</th>\n",
       "      <th>chillies</th>\n",
       "      <th>prawns</th>\n",
       "      <th>olive oil</th>\n",
       "      <th>lemon</th>\n",
       "      <th>garlic</th>\n",
       "      <th>coconut oil</th>\n",
       "      <th>coconut milk</th>\n",
       "      <th>cashew nuts</th>\n",
       "      <th>greek yogurt</th>\n",
       "    </tr>\n",
       "  </thead>\n",
       "  <tbody>\n",
       "    <tr>\n",
       "      <th>0</th>\n",
       "      <td>balu shahi</td>\n",
       "      <td>maida flour, yogurt, oil, sugar</td>\n",
       "      <td>vegetarian</td>\n",
       "      <td>45</td>\n",
       "      <td>25</td>\n",
       "      <td>sweet</td>\n",
       "      <td>dessert</td>\n",
       "      <td>West Bengal</td>\n",
       "      <td>East</td>\n",
       "      <td>1</td>\n",
       "      <td>...</td>\n",
       "      <td>1</td>\n",
       "      <td>1</td>\n",
       "      <td>1</td>\n",
       "      <td>1</td>\n",
       "      <td>1</td>\n",
       "      <td>1</td>\n",
       "      <td>1</td>\n",
       "      <td>1</td>\n",
       "      <td>1</td>\n",
       "      <td>1</td>\n",
       "    </tr>\n",
       "    <tr>\n",
       "      <th>1</th>\n",
       "      <td>boondi</td>\n",
       "      <td>gram flour, ghee, sugar</td>\n",
       "      <td>vegetarian</td>\n",
       "      <td>80</td>\n",
       "      <td>30</td>\n",
       "      <td>sweet</td>\n",
       "      <td>dessert</td>\n",
       "      <td>Rajasthan</td>\n",
       "      <td>West</td>\n",
       "      <td>1</td>\n",
       "      <td>...</td>\n",
       "      <td>1</td>\n",
       "      <td>1</td>\n",
       "      <td>1</td>\n",
       "      <td>1</td>\n",
       "      <td>1</td>\n",
       "      <td>1</td>\n",
       "      <td>1</td>\n",
       "      <td>1</td>\n",
       "      <td>1</td>\n",
       "      <td>1</td>\n",
       "    </tr>\n",
       "  </tbody>\n",
       "</table>\n",
       "<p>2 rows × 44 columns</p>\n",
       "</div>"
      ],
      "text/plain": [
       "         name                      ingredients        diet  prep_time  \\\n",
       "0  balu shahi  maida flour, yogurt, oil, sugar  vegetarian         45   \n",
       "1      boondi          gram flour, ghee, sugar  vegetarian         80   \n",
       "\n",
       "   cook_time flavor_profile   course        state region  sugar  ...  \\\n",
       "0         25          sweet  dessert  West Bengal   East      1  ...   \n",
       "1         30          sweet  dessert    Rajasthan   West      1  ...   \n",
       "\n",
       "   bay leaf  chillies  prawns  olive oil  lemon  garlic  coconut oil  \\\n",
       "0         1         1       1          1      1       1            1   \n",
       "1         1         1       1          1      1       1            1   \n",
       "\n",
       "   coconut milk  cashew nuts  greek yogurt  \n",
       "0             1            1             1  \n",
       "1             1            1             1  \n",
       "\n",
       "[2 rows x 44 columns]"
      ]
     },
     "execution_count": 50,
     "metadata": {},
     "output_type": "execute_result"
    }
   ],
   "source": [
    "data.head(2)"
   ]
  },
  {
   "cell_type": "markdown",
   "metadata": {},
   "source": [
    "##### feature selection of diet"
   ]
  },
  {
   "cell_type": "code",
   "execution_count": 51,
   "metadata": {},
   "outputs": [
    {
     "data": {
      "text/html": [
       "<div>\n",
       "<style scoped>\n",
       "    .dataframe tbody tr th:only-of-type {\n",
       "        vertical-align: middle;\n",
       "    }\n",
       "\n",
       "    .dataframe tbody tr th {\n",
       "        vertical-align: top;\n",
       "    }\n",
       "\n",
       "    .dataframe thead th {\n",
       "        text-align: right;\n",
       "    }\n",
       "</style>\n",
       "<table border=\"1\" class=\"dataframe\">\n",
       "  <thead>\n",
       "    <tr style=\"text-align: right;\">\n",
       "      <th></th>\n",
       "      <th>vegetarian</th>\n",
       "    </tr>\n",
       "  </thead>\n",
       "  <tbody>\n",
       "    <tr>\n",
       "      <th>0</th>\n",
       "      <td>1</td>\n",
       "    </tr>\n",
       "    <tr>\n",
       "      <th>1</th>\n",
       "      <td>1</td>\n",
       "    </tr>\n",
       "    <tr>\n",
       "      <th>2</th>\n",
       "      <td>1</td>\n",
       "    </tr>\n",
       "    <tr>\n",
       "      <th>3</th>\n",
       "      <td>1</td>\n",
       "    </tr>\n",
       "    <tr>\n",
       "      <th>4</th>\n",
       "      <td>1</td>\n",
       "    </tr>\n",
       "  </tbody>\n",
       "</table>\n",
       "</div>"
      ],
      "text/plain": [
       "   vegetarian\n",
       "0           1\n",
       "1           1\n",
       "2           1\n",
       "3           1\n",
       "4           1"
      ]
     },
     "execution_count": 51,
     "metadata": {},
     "output_type": "execute_result"
    }
   ],
   "source": [
    "# let's encode veg and non veg using label encoding\n",
    "\n",
    "# here i drop first column which is non vegetarian for preventing dummy variable trap\n",
    "diet_encoding = pd.get_dummies(main_data.diet, drop_first=True)\n",
    "diet_encoding.head()"
   ]
  },
  {
   "cell_type": "code",
   "execution_count": 52,
   "metadata": {},
   "outputs": [
    {
     "data": {
      "text/html": [
       "<div>\n",
       "<style scoped>\n",
       "    .dataframe tbody tr th:only-of-type {\n",
       "        vertical-align: middle;\n",
       "    }\n",
       "\n",
       "    .dataframe tbody tr th {\n",
       "        vertical-align: top;\n",
       "    }\n",
       "\n",
       "    .dataframe thead th {\n",
       "        text-align: right;\n",
       "    }\n",
       "</style>\n",
       "<table border=\"1\" class=\"dataframe\">\n",
       "  <thead>\n",
       "    <tr style=\"text-align: right;\">\n",
       "      <th></th>\n",
       "      <th>name</th>\n",
       "      <th>ingredients</th>\n",
       "      <th>diet</th>\n",
       "      <th>prep_time</th>\n",
       "      <th>cook_time</th>\n",
       "      <th>flavor_profile</th>\n",
       "      <th>course</th>\n",
       "      <th>state</th>\n",
       "      <th>region</th>\n",
       "      <th>sugar</th>\n",
       "      <th>...</th>\n",
       "      <th>chillies</th>\n",
       "      <th>prawns</th>\n",
       "      <th>olive oil</th>\n",
       "      <th>lemon</th>\n",
       "      <th>garlic</th>\n",
       "      <th>coconut oil</th>\n",
       "      <th>coconut milk</th>\n",
       "      <th>cashew nuts</th>\n",
       "      <th>greek yogurt</th>\n",
       "      <th>vegetarian</th>\n",
       "    </tr>\n",
       "  </thead>\n",
       "  <tbody>\n",
       "    <tr>\n",
       "      <th>0</th>\n",
       "      <td>balu shahi</td>\n",
       "      <td>maida flour, yogurt, oil, sugar</td>\n",
       "      <td>vegetarian</td>\n",
       "      <td>45</td>\n",
       "      <td>25</td>\n",
       "      <td>sweet</td>\n",
       "      <td>dessert</td>\n",
       "      <td>West Bengal</td>\n",
       "      <td>East</td>\n",
       "      <td>1</td>\n",
       "      <td>...</td>\n",
       "      <td>1</td>\n",
       "      <td>1</td>\n",
       "      <td>1</td>\n",
       "      <td>1</td>\n",
       "      <td>1</td>\n",
       "      <td>1</td>\n",
       "      <td>1</td>\n",
       "      <td>1</td>\n",
       "      <td>1</td>\n",
       "      <td>1</td>\n",
       "    </tr>\n",
       "    <tr>\n",
       "      <th>1</th>\n",
       "      <td>boondi</td>\n",
       "      <td>gram flour, ghee, sugar</td>\n",
       "      <td>vegetarian</td>\n",
       "      <td>80</td>\n",
       "      <td>30</td>\n",
       "      <td>sweet</td>\n",
       "      <td>dessert</td>\n",
       "      <td>Rajasthan</td>\n",
       "      <td>West</td>\n",
       "      <td>1</td>\n",
       "      <td>...</td>\n",
       "      <td>1</td>\n",
       "      <td>1</td>\n",
       "      <td>1</td>\n",
       "      <td>1</td>\n",
       "      <td>1</td>\n",
       "      <td>1</td>\n",
       "      <td>1</td>\n",
       "      <td>1</td>\n",
       "      <td>1</td>\n",
       "      <td>1</td>\n",
       "    </tr>\n",
       "  </tbody>\n",
       "</table>\n",
       "<p>2 rows × 45 columns</p>\n",
       "</div>"
      ],
      "text/plain": [
       "         name                      ingredients        diet  prep_time  \\\n",
       "0  balu shahi  maida flour, yogurt, oil, sugar  vegetarian         45   \n",
       "1      boondi          gram flour, ghee, sugar  vegetarian         80   \n",
       "\n",
       "   cook_time flavor_profile   course        state region  sugar  ...  \\\n",
       "0         25          sweet  dessert  West Bengal   East      1  ...   \n",
       "1         30          sweet  dessert    Rajasthan   West      1  ...   \n",
       "\n",
       "   chillies  prawns  olive oil  lemon  garlic  coconut oil  coconut milk  \\\n",
       "0         1       1          1      1       1            1             1   \n",
       "1         1       1          1      1       1            1             1   \n",
       "\n",
       "   cashew nuts  greek yogurt  vegetarian  \n",
       "0            1             1           1  \n",
       "1            1             1           1  \n",
       "\n",
       "[2 rows x 45 columns]"
      ]
     },
     "execution_count": 52,
     "metadata": {},
     "output_type": "execute_result"
    }
   ],
   "source": [
    "# now let's concat it with our \"data\" data frame\n",
    "\n",
    "data = pd.concat([data, diet_encoding], axis = 1)\n",
    "data.head(2)"
   ]
  },
  {
   "cell_type": "markdown",
   "metadata": {},
   "source": [
    "###### feature selection of flavor_profile"
   ]
  },
  {
   "cell_type": "code",
   "execution_count": 53,
   "metadata": {},
   "outputs": [
    {
     "data": {
      "text/html": [
       "<div>\n",
       "<style scoped>\n",
       "    .dataframe tbody tr th:only-of-type {\n",
       "        vertical-align: middle;\n",
       "    }\n",
       "\n",
       "    .dataframe tbody tr th {\n",
       "        vertical-align: top;\n",
       "    }\n",
       "\n",
       "    .dataframe thead th {\n",
       "        text-align: right;\n",
       "    }\n",
       "</style>\n",
       "<table border=\"1\" class=\"dataframe\">\n",
       "  <thead>\n",
       "    <tr style=\"text-align: right;\">\n",
       "      <th></th>\n",
       "      <th>other</th>\n",
       "      <th>sour</th>\n",
       "      <th>spicy</th>\n",
       "      <th>sweet</th>\n",
       "    </tr>\n",
       "  </thead>\n",
       "  <tbody>\n",
       "    <tr>\n",
       "      <th>0</th>\n",
       "      <td>0</td>\n",
       "      <td>0</td>\n",
       "      <td>0</td>\n",
       "      <td>1</td>\n",
       "    </tr>\n",
       "    <tr>\n",
       "      <th>1</th>\n",
       "      <td>0</td>\n",
       "      <td>0</td>\n",
       "      <td>0</td>\n",
       "      <td>1</td>\n",
       "    </tr>\n",
       "  </tbody>\n",
       "</table>\n",
       "</div>"
      ],
      "text/plain": [
       "   other  sour  spicy  sweet\n",
       "0      0     0      0      1\n",
       "1      0     0      0      1"
      ]
     },
     "execution_count": 53,
     "metadata": {},
     "output_type": "execute_result"
    }
   ],
   "source": [
    "# let's encode flavor_profile using one hot encoding\n",
    "\n",
    "# here i drop a first column which is bitter for preventing dummy variable trap\n",
    "flavor_profile_encoding = pd.get_dummies(main_data.flavor_profile, drop_first=True)\n",
    "flavor_profile_encoding.head(2)"
   ]
  },
  {
   "cell_type": "code",
   "execution_count": 54,
   "metadata": {},
   "outputs": [
    {
     "data": {
      "text/html": [
       "<div>\n",
       "<style scoped>\n",
       "    .dataframe tbody tr th:only-of-type {\n",
       "        vertical-align: middle;\n",
       "    }\n",
       "\n",
       "    .dataframe tbody tr th {\n",
       "        vertical-align: top;\n",
       "    }\n",
       "\n",
       "    .dataframe thead th {\n",
       "        text-align: right;\n",
       "    }\n",
       "</style>\n",
       "<table border=\"1\" class=\"dataframe\">\n",
       "  <thead>\n",
       "    <tr style=\"text-align: right;\">\n",
       "      <th></th>\n",
       "      <th>name</th>\n",
       "      <th>ingredients</th>\n",
       "      <th>diet</th>\n",
       "      <th>prep_time</th>\n",
       "      <th>cook_time</th>\n",
       "      <th>flavor_profile</th>\n",
       "      <th>course</th>\n",
       "      <th>state</th>\n",
       "      <th>region</th>\n",
       "      <th>sugar</th>\n",
       "      <th>...</th>\n",
       "      <th>garlic</th>\n",
       "      <th>coconut oil</th>\n",
       "      <th>coconut milk</th>\n",
       "      <th>cashew nuts</th>\n",
       "      <th>greek yogurt</th>\n",
       "      <th>vegetarian</th>\n",
       "      <th>other</th>\n",
       "      <th>sour</th>\n",
       "      <th>spicy</th>\n",
       "      <th>sweet</th>\n",
       "    </tr>\n",
       "  </thead>\n",
       "  <tbody>\n",
       "    <tr>\n",
       "      <th>0</th>\n",
       "      <td>balu shahi</td>\n",
       "      <td>maida flour, yogurt, oil, sugar</td>\n",
       "      <td>vegetarian</td>\n",
       "      <td>45</td>\n",
       "      <td>25</td>\n",
       "      <td>sweet</td>\n",
       "      <td>dessert</td>\n",
       "      <td>West Bengal</td>\n",
       "      <td>East</td>\n",
       "      <td>1</td>\n",
       "      <td>...</td>\n",
       "      <td>1</td>\n",
       "      <td>1</td>\n",
       "      <td>1</td>\n",
       "      <td>1</td>\n",
       "      <td>1</td>\n",
       "      <td>1</td>\n",
       "      <td>0</td>\n",
       "      <td>0</td>\n",
       "      <td>0</td>\n",
       "      <td>1</td>\n",
       "    </tr>\n",
       "    <tr>\n",
       "      <th>1</th>\n",
       "      <td>boondi</td>\n",
       "      <td>gram flour, ghee, sugar</td>\n",
       "      <td>vegetarian</td>\n",
       "      <td>80</td>\n",
       "      <td>30</td>\n",
       "      <td>sweet</td>\n",
       "      <td>dessert</td>\n",
       "      <td>Rajasthan</td>\n",
       "      <td>West</td>\n",
       "      <td>1</td>\n",
       "      <td>...</td>\n",
       "      <td>1</td>\n",
       "      <td>1</td>\n",
       "      <td>1</td>\n",
       "      <td>1</td>\n",
       "      <td>1</td>\n",
       "      <td>1</td>\n",
       "      <td>0</td>\n",
       "      <td>0</td>\n",
       "      <td>0</td>\n",
       "      <td>1</td>\n",
       "    </tr>\n",
       "  </tbody>\n",
       "</table>\n",
       "<p>2 rows × 49 columns</p>\n",
       "</div>"
      ],
      "text/plain": [
       "         name                      ingredients        diet  prep_time  \\\n",
       "0  balu shahi  maida flour, yogurt, oil, sugar  vegetarian         45   \n",
       "1      boondi          gram flour, ghee, sugar  vegetarian         80   \n",
       "\n",
       "   cook_time flavor_profile   course        state region  sugar  ...  garlic  \\\n",
       "0         25          sweet  dessert  West Bengal   East      1  ...       1   \n",
       "1         30          sweet  dessert    Rajasthan   West      1  ...       1   \n",
       "\n",
       "   coconut oil  coconut milk  cashew nuts  greek yogurt  vegetarian  other  \\\n",
       "0            1             1            1             1           1      0   \n",
       "1            1             1            1             1           1      0   \n",
       "\n",
       "   sour  spicy  sweet  \n",
       "0     0      0      1  \n",
       "1     0      0      1  \n",
       "\n",
       "[2 rows x 49 columns]"
      ]
     },
     "execution_count": 54,
     "metadata": {},
     "output_type": "execute_result"
    }
   ],
   "source": [
    "# now let's concat it with our main \"data\" data frame\n",
    "\n",
    "data = pd.concat([data, flavor_profile_encoding], axis = 1)\n",
    "data.head(2)"
   ]
  },
  {
   "cell_type": "markdown",
   "metadata": {},
   "source": [
    "###### feature selection of course"
   ]
  },
  {
   "cell_type": "code",
   "execution_count": 55,
   "metadata": {},
   "outputs": [
    {
     "data": {
      "text/html": [
       "<div>\n",
       "<style scoped>\n",
       "    .dataframe tbody tr th:only-of-type {\n",
       "        vertical-align: middle;\n",
       "    }\n",
       "\n",
       "    .dataframe tbody tr th {\n",
       "        vertical-align: top;\n",
       "    }\n",
       "\n",
       "    .dataframe thead th {\n",
       "        text-align: right;\n",
       "    }\n",
       "</style>\n",
       "<table border=\"1\" class=\"dataframe\">\n",
       "  <thead>\n",
       "    <tr style=\"text-align: right;\">\n",
       "      <th></th>\n",
       "      <th>main course</th>\n",
       "      <th>snack</th>\n",
       "      <th>starter</th>\n",
       "    </tr>\n",
       "  </thead>\n",
       "  <tbody>\n",
       "    <tr>\n",
       "      <th>0</th>\n",
       "      <td>0</td>\n",
       "      <td>0</td>\n",
       "      <td>0</td>\n",
       "    </tr>\n",
       "    <tr>\n",
       "      <th>1</th>\n",
       "      <td>0</td>\n",
       "      <td>0</td>\n",
       "      <td>0</td>\n",
       "    </tr>\n",
       "  </tbody>\n",
       "</table>\n",
       "</div>"
      ],
      "text/plain": [
       "   main course  snack  starter\n",
       "0            0      0        0\n",
       "1            0      0        0"
      ]
     },
     "execution_count": 55,
     "metadata": {},
     "output_type": "execute_result"
    }
   ],
   "source": [
    "# let's encode course using one hot encoding\n",
    "\n",
    "# here i drop first column which is dessert for preventing dummy variable trap\n",
    "course_encoding = pd.get_dummies(main_data.course, drop_first = True)\n",
    "course_encoding.head(2)"
   ]
  },
  {
   "cell_type": "code",
   "execution_count": 56,
   "metadata": {},
   "outputs": [
    {
     "data": {
      "text/html": [
       "<div>\n",
       "<style scoped>\n",
       "    .dataframe tbody tr th:only-of-type {\n",
       "        vertical-align: middle;\n",
       "    }\n",
       "\n",
       "    .dataframe tbody tr th {\n",
       "        vertical-align: top;\n",
       "    }\n",
       "\n",
       "    .dataframe thead th {\n",
       "        text-align: right;\n",
       "    }\n",
       "</style>\n",
       "<table border=\"1\" class=\"dataframe\">\n",
       "  <thead>\n",
       "    <tr style=\"text-align: right;\">\n",
       "      <th></th>\n",
       "      <th>name</th>\n",
       "      <th>ingredients</th>\n",
       "      <th>diet</th>\n",
       "      <th>prep_time</th>\n",
       "      <th>cook_time</th>\n",
       "      <th>flavor_profile</th>\n",
       "      <th>course</th>\n",
       "      <th>state</th>\n",
       "      <th>region</th>\n",
       "      <th>sugar</th>\n",
       "      <th>...</th>\n",
       "      <th>cashew nuts</th>\n",
       "      <th>greek yogurt</th>\n",
       "      <th>vegetarian</th>\n",
       "      <th>other</th>\n",
       "      <th>sour</th>\n",
       "      <th>spicy</th>\n",
       "      <th>sweet</th>\n",
       "      <th>main course</th>\n",
       "      <th>snack</th>\n",
       "      <th>starter</th>\n",
       "    </tr>\n",
       "  </thead>\n",
       "  <tbody>\n",
       "    <tr>\n",
       "      <th>0</th>\n",
       "      <td>balu shahi</td>\n",
       "      <td>maida flour, yogurt, oil, sugar</td>\n",
       "      <td>vegetarian</td>\n",
       "      <td>45</td>\n",
       "      <td>25</td>\n",
       "      <td>sweet</td>\n",
       "      <td>dessert</td>\n",
       "      <td>West Bengal</td>\n",
       "      <td>East</td>\n",
       "      <td>1</td>\n",
       "      <td>...</td>\n",
       "      <td>1</td>\n",
       "      <td>1</td>\n",
       "      <td>1</td>\n",
       "      <td>0</td>\n",
       "      <td>0</td>\n",
       "      <td>0</td>\n",
       "      <td>1</td>\n",
       "      <td>0</td>\n",
       "      <td>0</td>\n",
       "      <td>0</td>\n",
       "    </tr>\n",
       "    <tr>\n",
       "      <th>1</th>\n",
       "      <td>boondi</td>\n",
       "      <td>gram flour, ghee, sugar</td>\n",
       "      <td>vegetarian</td>\n",
       "      <td>80</td>\n",
       "      <td>30</td>\n",
       "      <td>sweet</td>\n",
       "      <td>dessert</td>\n",
       "      <td>Rajasthan</td>\n",
       "      <td>West</td>\n",
       "      <td>1</td>\n",
       "      <td>...</td>\n",
       "      <td>1</td>\n",
       "      <td>1</td>\n",
       "      <td>1</td>\n",
       "      <td>0</td>\n",
       "      <td>0</td>\n",
       "      <td>0</td>\n",
       "      <td>1</td>\n",
       "      <td>0</td>\n",
       "      <td>0</td>\n",
       "      <td>0</td>\n",
       "    </tr>\n",
       "  </tbody>\n",
       "</table>\n",
       "<p>2 rows × 52 columns</p>\n",
       "</div>"
      ],
      "text/plain": [
       "         name                      ingredients        diet  prep_time  \\\n",
       "0  balu shahi  maida flour, yogurt, oil, sugar  vegetarian         45   \n",
       "1      boondi          gram flour, ghee, sugar  vegetarian         80   \n",
       "\n",
       "   cook_time flavor_profile   course        state region  sugar  ...  \\\n",
       "0         25          sweet  dessert  West Bengal   East      1  ...   \n",
       "1         30          sweet  dessert    Rajasthan   West      1  ...   \n",
       "\n",
       "   cashew nuts  greek yogurt  vegetarian  other  sour  spicy  sweet  \\\n",
       "0            1             1           1      0     0      0      1   \n",
       "1            1             1           1      0     0      0      1   \n",
       "\n",
       "   main course  snack  starter  \n",
       "0            0      0        0  \n",
       "1            0      0        0  \n",
       "\n",
       "[2 rows x 52 columns]"
      ]
     },
     "execution_count": 56,
     "metadata": {},
     "output_type": "execute_result"
    }
   ],
   "source": [
    "# let's concat it with our main \"data\" data frame\n",
    "\n",
    "data = pd.concat([data, course_encoding], axis = 1)\n",
    "data.head(2)"
   ]
  },
  {
   "cell_type": "markdown",
   "metadata": {},
   "source": [
    "##### feature selection of state"
   ]
  },
  {
   "cell_type": "code",
   "execution_count": 57,
   "metadata": {},
   "outputs": [
    {
     "data": {
      "text/html": [
       "<div>\n",
       "<style scoped>\n",
       "    .dataframe tbody tr th:only-of-type {\n",
       "        vertical-align: middle;\n",
       "    }\n",
       "\n",
       "    .dataframe tbody tr th {\n",
       "        vertical-align: top;\n",
       "    }\n",
       "\n",
       "    .dataframe thead th {\n",
       "        text-align: right;\n",
       "    }\n",
       "</style>\n",
       "<table border=\"1\" class=\"dataframe\">\n",
       "  <thead>\n",
       "    <tr style=\"text-align: right;\">\n",
       "      <th></th>\n",
       "      <th>Andhra Pradesh</th>\n",
       "      <th>Assam</th>\n",
       "      <th>Bihar</th>\n",
       "      <th>Chhattisgarh</th>\n",
       "      <th>Goa</th>\n",
       "      <th>Gujarat</th>\n",
       "      <th>Haryana</th>\n",
       "      <th>Jammu &amp; Kashmir</th>\n",
       "      <th>Karnataka</th>\n",
       "      <th>Kerala</th>\n",
       "      <th>...</th>\n",
       "      <th>Nagaland</th>\n",
       "      <th>Odisha</th>\n",
       "      <th>Punjab</th>\n",
       "      <th>Rajasthan</th>\n",
       "      <th>Tamil Nadu</th>\n",
       "      <th>Telangana</th>\n",
       "      <th>Tripura</th>\n",
       "      <th>Uttar Pradesh</th>\n",
       "      <th>Uttarakhand</th>\n",
       "      <th>West Bengal</th>\n",
       "    </tr>\n",
       "  </thead>\n",
       "  <tbody>\n",
       "    <tr>\n",
       "      <th>0</th>\n",
       "      <td>0</td>\n",
       "      <td>0</td>\n",
       "      <td>0</td>\n",
       "      <td>0</td>\n",
       "      <td>0</td>\n",
       "      <td>0</td>\n",
       "      <td>0</td>\n",
       "      <td>0</td>\n",
       "      <td>0</td>\n",
       "      <td>0</td>\n",
       "      <td>...</td>\n",
       "      <td>0</td>\n",
       "      <td>0</td>\n",
       "      <td>0</td>\n",
       "      <td>0</td>\n",
       "      <td>0</td>\n",
       "      <td>0</td>\n",
       "      <td>0</td>\n",
       "      <td>0</td>\n",
       "      <td>0</td>\n",
       "      <td>1</td>\n",
       "    </tr>\n",
       "    <tr>\n",
       "      <th>1</th>\n",
       "      <td>0</td>\n",
       "      <td>0</td>\n",
       "      <td>0</td>\n",
       "      <td>0</td>\n",
       "      <td>0</td>\n",
       "      <td>0</td>\n",
       "      <td>0</td>\n",
       "      <td>0</td>\n",
       "      <td>0</td>\n",
       "      <td>0</td>\n",
       "      <td>...</td>\n",
       "      <td>0</td>\n",
       "      <td>0</td>\n",
       "      <td>0</td>\n",
       "      <td>1</td>\n",
       "      <td>0</td>\n",
       "      <td>0</td>\n",
       "      <td>0</td>\n",
       "      <td>0</td>\n",
       "      <td>0</td>\n",
       "      <td>0</td>\n",
       "    </tr>\n",
       "  </tbody>\n",
       "</table>\n",
       "<p>2 rows × 24 columns</p>\n",
       "</div>"
      ],
      "text/plain": [
       "   Andhra Pradesh  Assam  Bihar  Chhattisgarh  Goa  Gujarat  Haryana  \\\n",
       "0               0      0      0             0    0        0        0   \n",
       "1               0      0      0             0    0        0        0   \n",
       "\n",
       "   Jammu & Kashmir  Karnataka  Kerala  ...  Nagaland  Odisha  Punjab  \\\n",
       "0                0          0       0  ...         0       0       0   \n",
       "1                0          0       0  ...         0       0       0   \n",
       "\n",
       "   Rajasthan  Tamil Nadu  Telangana  Tripura  Uttar Pradesh  Uttarakhand  \\\n",
       "0          0           0          0        0              0            0   \n",
       "1          1           0          0        0              0            0   \n",
       "\n",
       "   West Bengal  \n",
       "0            1  \n",
       "1            0  \n",
       "\n",
       "[2 rows x 24 columns]"
      ]
     },
     "execution_count": 57,
     "metadata": {},
     "output_type": "execute_result"
    }
   ],
   "source": [
    "# let's encode the state using one hot encoding\n",
    "\n",
    "# here i drop first column which is All State for preventing dummy variable trap\n",
    "state_encoding = pd.get_dummies(main_data.state, drop_first = True)\n",
    "state_encoding.head(2)"
   ]
  },
  {
   "cell_type": "code",
   "execution_count": 58,
   "metadata": {},
   "outputs": [
    {
     "data": {
      "text/html": [
       "<div>\n",
       "<style scoped>\n",
       "    .dataframe tbody tr th:only-of-type {\n",
       "        vertical-align: middle;\n",
       "    }\n",
       "\n",
       "    .dataframe tbody tr th {\n",
       "        vertical-align: top;\n",
       "    }\n",
       "\n",
       "    .dataframe thead th {\n",
       "        text-align: right;\n",
       "    }\n",
       "</style>\n",
       "<table border=\"1\" class=\"dataframe\">\n",
       "  <thead>\n",
       "    <tr style=\"text-align: right;\">\n",
       "      <th></th>\n",
       "      <th>name</th>\n",
       "      <th>ingredients</th>\n",
       "      <th>diet</th>\n",
       "      <th>prep_time</th>\n",
       "      <th>cook_time</th>\n",
       "      <th>flavor_profile</th>\n",
       "      <th>course</th>\n",
       "      <th>state</th>\n",
       "      <th>region</th>\n",
       "      <th>sugar</th>\n",
       "      <th>...</th>\n",
       "      <th>Nagaland</th>\n",
       "      <th>Odisha</th>\n",
       "      <th>Punjab</th>\n",
       "      <th>Rajasthan</th>\n",
       "      <th>Tamil Nadu</th>\n",
       "      <th>Telangana</th>\n",
       "      <th>Tripura</th>\n",
       "      <th>Uttar Pradesh</th>\n",
       "      <th>Uttarakhand</th>\n",
       "      <th>West Bengal</th>\n",
       "    </tr>\n",
       "  </thead>\n",
       "  <tbody>\n",
       "    <tr>\n",
       "      <th>0</th>\n",
       "      <td>balu shahi</td>\n",
       "      <td>maida flour, yogurt, oil, sugar</td>\n",
       "      <td>vegetarian</td>\n",
       "      <td>45</td>\n",
       "      <td>25</td>\n",
       "      <td>sweet</td>\n",
       "      <td>dessert</td>\n",
       "      <td>West Bengal</td>\n",
       "      <td>East</td>\n",
       "      <td>1</td>\n",
       "      <td>...</td>\n",
       "      <td>0</td>\n",
       "      <td>0</td>\n",
       "      <td>0</td>\n",
       "      <td>0</td>\n",
       "      <td>0</td>\n",
       "      <td>0</td>\n",
       "      <td>0</td>\n",
       "      <td>0</td>\n",
       "      <td>0</td>\n",
       "      <td>1</td>\n",
       "    </tr>\n",
       "    <tr>\n",
       "      <th>1</th>\n",
       "      <td>boondi</td>\n",
       "      <td>gram flour, ghee, sugar</td>\n",
       "      <td>vegetarian</td>\n",
       "      <td>80</td>\n",
       "      <td>30</td>\n",
       "      <td>sweet</td>\n",
       "      <td>dessert</td>\n",
       "      <td>Rajasthan</td>\n",
       "      <td>West</td>\n",
       "      <td>1</td>\n",
       "      <td>...</td>\n",
       "      <td>0</td>\n",
       "      <td>0</td>\n",
       "      <td>0</td>\n",
       "      <td>1</td>\n",
       "      <td>0</td>\n",
       "      <td>0</td>\n",
       "      <td>0</td>\n",
       "      <td>0</td>\n",
       "      <td>0</td>\n",
       "      <td>0</td>\n",
       "    </tr>\n",
       "  </tbody>\n",
       "</table>\n",
       "<p>2 rows × 76 columns</p>\n",
       "</div>"
      ],
      "text/plain": [
       "         name                      ingredients        diet  prep_time  \\\n",
       "0  balu shahi  maida flour, yogurt, oil, sugar  vegetarian         45   \n",
       "1      boondi          gram flour, ghee, sugar  vegetarian         80   \n",
       "\n",
       "   cook_time flavor_profile   course        state region  sugar  ...  \\\n",
       "0         25          sweet  dessert  West Bengal   East      1  ...   \n",
       "1         30          sweet  dessert    Rajasthan   West      1  ...   \n",
       "\n",
       "   Nagaland  Odisha  Punjab  Rajasthan  Tamil Nadu  Telangana  Tripura  \\\n",
       "0         0       0       0          0           0          0        0   \n",
       "1         0       0       0          1           0          0        0   \n",
       "\n",
       "   Uttar Pradesh  Uttarakhand  West Bengal  \n",
       "0              0            0            1  \n",
       "1              0            0            0  \n",
       "\n",
       "[2 rows x 76 columns]"
      ]
     },
     "execution_count": 58,
     "metadata": {},
     "output_type": "execute_result"
    }
   ],
   "source": [
    "# let's concat it with our main \"data\" data frame\n",
    "\n",
    "data = pd.concat([data, state_encoding], axis = 1)\n",
    "data.head(2)"
   ]
  },
  {
   "cell_type": "markdown",
   "metadata": {},
   "source": [
    "###### feature selection region"
   ]
  },
  {
   "cell_type": "code",
   "execution_count": 59,
   "metadata": {},
   "outputs": [
    {
     "data": {
      "text/html": [
       "<div>\n",
       "<style scoped>\n",
       "    .dataframe tbody tr th:only-of-type {\n",
       "        vertical-align: middle;\n",
       "    }\n",
       "\n",
       "    .dataframe tbody tr th {\n",
       "        vertical-align: top;\n",
       "    }\n",
       "\n",
       "    .dataframe thead th {\n",
       "        text-align: right;\n",
       "    }\n",
       "</style>\n",
       "<table border=\"1\" class=\"dataframe\">\n",
       "  <thead>\n",
       "    <tr style=\"text-align: right;\">\n",
       "      <th></th>\n",
       "      <th>Central</th>\n",
       "      <th>East</th>\n",
       "      <th>North</th>\n",
       "      <th>North East</th>\n",
       "      <th>South</th>\n",
       "      <th>West</th>\n",
       "    </tr>\n",
       "  </thead>\n",
       "  <tbody>\n",
       "    <tr>\n",
       "      <th>0</th>\n",
       "      <td>0</td>\n",
       "      <td>1</td>\n",
       "      <td>0</td>\n",
       "      <td>0</td>\n",
       "      <td>0</td>\n",
       "      <td>0</td>\n",
       "    </tr>\n",
       "    <tr>\n",
       "      <th>1</th>\n",
       "      <td>0</td>\n",
       "      <td>0</td>\n",
       "      <td>0</td>\n",
       "      <td>0</td>\n",
       "      <td>0</td>\n",
       "      <td>1</td>\n",
       "    </tr>\n",
       "  </tbody>\n",
       "</table>\n",
       "</div>"
      ],
      "text/plain": [
       "   Central  East  North  North East  South  West\n",
       "0        0     1      0           0      0     0\n",
       "1        0     0      0           0      0     1"
      ]
     },
     "execution_count": 59,
     "metadata": {},
     "output_type": "execute_result"
    }
   ],
   "source": [
    "# let's encode region using one hot encoding\n",
    "\n",
    "# here i drop first column which is All Region for preventing dummy variable trap\n",
    "region_encoding = pd.get_dummies(main_data.region, drop_first = True)\n",
    "region_encoding.head(2)"
   ]
  },
  {
   "cell_type": "code",
   "execution_count": 60,
   "metadata": {},
   "outputs": [
    {
     "data": {
      "text/html": [
       "<div>\n",
       "<style scoped>\n",
       "    .dataframe tbody tr th:only-of-type {\n",
       "        vertical-align: middle;\n",
       "    }\n",
       "\n",
       "    .dataframe tbody tr th {\n",
       "        vertical-align: top;\n",
       "    }\n",
       "\n",
       "    .dataframe thead th {\n",
       "        text-align: right;\n",
       "    }\n",
       "</style>\n",
       "<table border=\"1\" class=\"dataframe\">\n",
       "  <thead>\n",
       "    <tr style=\"text-align: right;\">\n",
       "      <th></th>\n",
       "      <th>name</th>\n",
       "      <th>ingredients</th>\n",
       "      <th>diet</th>\n",
       "      <th>prep_time</th>\n",
       "      <th>cook_time</th>\n",
       "      <th>flavor_profile</th>\n",
       "      <th>course</th>\n",
       "      <th>state</th>\n",
       "      <th>region</th>\n",
       "      <th>sugar</th>\n",
       "      <th>...</th>\n",
       "      <th>Tripura</th>\n",
       "      <th>Uttar Pradesh</th>\n",
       "      <th>Uttarakhand</th>\n",
       "      <th>West Bengal</th>\n",
       "      <th>Central</th>\n",
       "      <th>East</th>\n",
       "      <th>North</th>\n",
       "      <th>North East</th>\n",
       "      <th>South</th>\n",
       "      <th>West</th>\n",
       "    </tr>\n",
       "  </thead>\n",
       "  <tbody>\n",
       "    <tr>\n",
       "      <th>0</th>\n",
       "      <td>balu shahi</td>\n",
       "      <td>maida flour, yogurt, oil, sugar</td>\n",
       "      <td>vegetarian</td>\n",
       "      <td>45</td>\n",
       "      <td>25</td>\n",
       "      <td>sweet</td>\n",
       "      <td>dessert</td>\n",
       "      <td>West Bengal</td>\n",
       "      <td>East</td>\n",
       "      <td>1</td>\n",
       "      <td>...</td>\n",
       "      <td>0</td>\n",
       "      <td>0</td>\n",
       "      <td>0</td>\n",
       "      <td>1</td>\n",
       "      <td>0</td>\n",
       "      <td>1</td>\n",
       "      <td>0</td>\n",
       "      <td>0</td>\n",
       "      <td>0</td>\n",
       "      <td>0</td>\n",
       "    </tr>\n",
       "    <tr>\n",
       "      <th>1</th>\n",
       "      <td>boondi</td>\n",
       "      <td>gram flour, ghee, sugar</td>\n",
       "      <td>vegetarian</td>\n",
       "      <td>80</td>\n",
       "      <td>30</td>\n",
       "      <td>sweet</td>\n",
       "      <td>dessert</td>\n",
       "      <td>Rajasthan</td>\n",
       "      <td>West</td>\n",
       "      <td>1</td>\n",
       "      <td>...</td>\n",
       "      <td>0</td>\n",
       "      <td>0</td>\n",
       "      <td>0</td>\n",
       "      <td>0</td>\n",
       "      <td>0</td>\n",
       "      <td>0</td>\n",
       "      <td>0</td>\n",
       "      <td>0</td>\n",
       "      <td>0</td>\n",
       "      <td>1</td>\n",
       "    </tr>\n",
       "  </tbody>\n",
       "</table>\n",
       "<p>2 rows × 82 columns</p>\n",
       "</div>"
      ],
      "text/plain": [
       "         name                      ingredients        diet  prep_time  \\\n",
       "0  balu shahi  maida flour, yogurt, oil, sugar  vegetarian         45   \n",
       "1      boondi          gram flour, ghee, sugar  vegetarian         80   \n",
       "\n",
       "   cook_time flavor_profile   course        state region  sugar  ...  Tripura  \\\n",
       "0         25          sweet  dessert  West Bengal   East      1  ...        0   \n",
       "1         30          sweet  dessert    Rajasthan   West      1  ...        0   \n",
       "\n",
       "   Uttar Pradesh  Uttarakhand  West Bengal  Central  East  North  North East  \\\n",
       "0              0            0            1        0     1      0           0   \n",
       "1              0            0            0        0     0      0           0   \n",
       "\n",
       "   South  West  \n",
       "0      0     0  \n",
       "1      0     1  \n",
       "\n",
       "[2 rows x 82 columns]"
      ]
     },
     "execution_count": 60,
     "metadata": {},
     "output_type": "execute_result"
    }
   ],
   "source": [
    "# let's concat it with main \"data\" data frame\n",
    "\n",
    "data = pd.concat([data, region_encoding], axis = 1)\n",
    "data.head(2)"
   ]
  },
  {
   "cell_type": "markdown",
   "metadata": {},
   "source": [
    "###### creating final data frame"
   ]
  },
  {
   "cell_type": "code",
   "execution_count": 61,
   "metadata": {},
   "outputs": [
    {
     "data": {
      "text/html": [
       "<div>\n",
       "<style scoped>\n",
       "    .dataframe tbody tr th:only-of-type {\n",
       "        vertical-align: middle;\n",
       "    }\n",
       "\n",
       "    .dataframe tbody tr th {\n",
       "        vertical-align: top;\n",
       "    }\n",
       "\n",
       "    .dataframe thead th {\n",
       "        text-align: right;\n",
       "    }\n",
       "</style>\n",
       "<table border=\"1\" class=\"dataframe\">\n",
       "  <thead>\n",
       "    <tr style=\"text-align: right;\">\n",
       "      <th></th>\n",
       "      <th>name</th>\n",
       "      <th>sugar</th>\n",
       "      <th>ginger</th>\n",
       "      <th>garam masala</th>\n",
       "      <th>urad dal</th>\n",
       "      <th>ghee</th>\n",
       "      <th>curry leaves</th>\n",
       "      <th>milk</th>\n",
       "      <th>jaggery</th>\n",
       "      <th>rice flour</th>\n",
       "      <th>...</th>\n",
       "      <th>Tripura</th>\n",
       "      <th>Uttar Pradesh</th>\n",
       "      <th>Uttarakhand</th>\n",
       "      <th>West Bengal</th>\n",
       "      <th>Central</th>\n",
       "      <th>East</th>\n",
       "      <th>North</th>\n",
       "      <th>North East</th>\n",
       "      <th>South</th>\n",
       "      <th>West</th>\n",
       "    </tr>\n",
       "  </thead>\n",
       "  <tbody>\n",
       "    <tr>\n",
       "      <th>0</th>\n",
       "      <td>balu shahi</td>\n",
       "      <td>1</td>\n",
       "      <td>1</td>\n",
       "      <td>1</td>\n",
       "      <td>1</td>\n",
       "      <td>1</td>\n",
       "      <td>1</td>\n",
       "      <td>1</td>\n",
       "      <td>1</td>\n",
       "      <td>1</td>\n",
       "      <td>...</td>\n",
       "      <td>0</td>\n",
       "      <td>0</td>\n",
       "      <td>0</td>\n",
       "      <td>1</td>\n",
       "      <td>0</td>\n",
       "      <td>1</td>\n",
       "      <td>0</td>\n",
       "      <td>0</td>\n",
       "      <td>0</td>\n",
       "      <td>0</td>\n",
       "    </tr>\n",
       "    <tr>\n",
       "      <th>1</th>\n",
       "      <td>boondi</td>\n",
       "      <td>1</td>\n",
       "      <td>1</td>\n",
       "      <td>1</td>\n",
       "      <td>1</td>\n",
       "      <td>1</td>\n",
       "      <td>1</td>\n",
       "      <td>1</td>\n",
       "      <td>1</td>\n",
       "      <td>1</td>\n",
       "      <td>...</td>\n",
       "      <td>0</td>\n",
       "      <td>0</td>\n",
       "      <td>0</td>\n",
       "      <td>0</td>\n",
       "      <td>0</td>\n",
       "      <td>0</td>\n",
       "      <td>0</td>\n",
       "      <td>0</td>\n",
       "      <td>0</td>\n",
       "      <td>1</td>\n",
       "    </tr>\n",
       "    <tr>\n",
       "      <th>2</th>\n",
       "      <td>gajar ka halwa</td>\n",
       "      <td>1</td>\n",
       "      <td>1</td>\n",
       "      <td>1</td>\n",
       "      <td>1</td>\n",
       "      <td>1</td>\n",
       "      <td>1</td>\n",
       "      <td>1</td>\n",
       "      <td>1</td>\n",
       "      <td>1</td>\n",
       "      <td>...</td>\n",
       "      <td>0</td>\n",
       "      <td>0</td>\n",
       "      <td>0</td>\n",
       "      <td>0</td>\n",
       "      <td>0</td>\n",
       "      <td>0</td>\n",
       "      <td>1</td>\n",
       "      <td>0</td>\n",
       "      <td>0</td>\n",
       "      <td>0</td>\n",
       "    </tr>\n",
       "    <tr>\n",
       "      <th>3</th>\n",
       "      <td>ghevar</td>\n",
       "      <td>1</td>\n",
       "      <td>1</td>\n",
       "      <td>1</td>\n",
       "      <td>1</td>\n",
       "      <td>1</td>\n",
       "      <td>1</td>\n",
       "      <td>1</td>\n",
       "      <td>1</td>\n",
       "      <td>1</td>\n",
       "      <td>...</td>\n",
       "      <td>0</td>\n",
       "      <td>0</td>\n",
       "      <td>0</td>\n",
       "      <td>0</td>\n",
       "      <td>0</td>\n",
       "      <td>0</td>\n",
       "      <td>0</td>\n",
       "      <td>0</td>\n",
       "      <td>0</td>\n",
       "      <td>1</td>\n",
       "    </tr>\n",
       "    <tr>\n",
       "      <th>4</th>\n",
       "      <td>gulab jamun</td>\n",
       "      <td>1</td>\n",
       "      <td>1</td>\n",
       "      <td>1</td>\n",
       "      <td>1</td>\n",
       "      <td>1</td>\n",
       "      <td>1</td>\n",
       "      <td>1</td>\n",
       "      <td>1</td>\n",
       "      <td>1</td>\n",
       "      <td>...</td>\n",
       "      <td>0</td>\n",
       "      <td>0</td>\n",
       "      <td>0</td>\n",
       "      <td>1</td>\n",
       "      <td>0</td>\n",
       "      <td>1</td>\n",
       "      <td>0</td>\n",
       "      <td>0</td>\n",
       "      <td>0</td>\n",
       "      <td>0</td>\n",
       "    </tr>\n",
       "  </tbody>\n",
       "</table>\n",
       "<p>5 rows × 74 columns</p>\n",
       "</div>"
      ],
      "text/plain": [
       "             name  sugar  ginger  garam masala  urad dal  ghee  curry leaves  \\\n",
       "0      balu shahi      1       1             1         1     1             1   \n",
       "1          boondi      1       1             1         1     1             1   \n",
       "2  gajar ka halwa      1       1             1         1     1             1   \n",
       "3          ghevar      1       1             1         1     1             1   \n",
       "4     gulab jamun      1       1             1         1     1             1   \n",
       "\n",
       "   milk  jaggery  rice flour  ...  Tripura  Uttar Pradesh  Uttarakhand  \\\n",
       "0     1        1           1  ...        0              0            0   \n",
       "1     1        1           1  ...        0              0            0   \n",
       "2     1        1           1  ...        0              0            0   \n",
       "3     1        1           1  ...        0              0            0   \n",
       "4     1        1           1  ...        0              0            0   \n",
       "\n",
       "   West Bengal  Central  East  North  North East  South  West  \n",
       "0            1        0     1      0           0      0     0  \n",
       "1            0        0     0      0           0      0     1  \n",
       "2            0        0     0      1           0      0     0  \n",
       "3            0        0     0      0           0      0     1  \n",
       "4            1        0     1      0           0      0     0  \n",
       "\n",
       "[5 rows x 74 columns]"
      ]
     },
     "execution_count": 61,
     "metadata": {},
     "output_type": "execute_result"
    }
   ],
   "source": [
    "# let's create a final data frame\n",
    "# let's remove unnecessary columns which are not required not and store it as final_data\n",
    "\n",
    "final_data = data.drop(columns = ['ingredients', 'diet', 'prep_time', 'cook_time',\n",
    "       'flavor_profile', 'course', 'state', 'region'])\n",
    "\n",
    "final_data.head()"
   ]
  },
  {
   "cell_type": "code",
   "execution_count": 62,
   "metadata": {},
   "outputs": [
    {
     "data": {
      "text/html": [
       "<div>\n",
       "<style scoped>\n",
       "    .dataframe tbody tr th:only-of-type {\n",
       "        vertical-align: middle;\n",
       "    }\n",
       "\n",
       "    .dataframe tbody tr th {\n",
       "        vertical-align: top;\n",
       "    }\n",
       "\n",
       "    .dataframe thead th {\n",
       "        text-align: right;\n",
       "    }\n",
       "</style>\n",
       "<table border=\"1\" class=\"dataframe\">\n",
       "  <thead>\n",
       "    <tr style=\"text-align: right;\">\n",
       "      <th></th>\n",
       "      <th>sugar</th>\n",
       "      <th>ginger</th>\n",
       "      <th>garam masala</th>\n",
       "      <th>urad dal</th>\n",
       "      <th>ghee</th>\n",
       "      <th>curry leaves</th>\n",
       "      <th>milk</th>\n",
       "      <th>jaggery</th>\n",
       "      <th>rice flour</th>\n",
       "      <th>tomato</th>\n",
       "      <th>...</th>\n",
       "      <th>Tripura</th>\n",
       "      <th>Uttar Pradesh</th>\n",
       "      <th>Uttarakhand</th>\n",
       "      <th>West Bengal</th>\n",
       "      <th>Central</th>\n",
       "      <th>East</th>\n",
       "      <th>North</th>\n",
       "      <th>North East</th>\n",
       "      <th>South</th>\n",
       "      <th>West</th>\n",
       "    </tr>\n",
       "    <tr>\n",
       "      <th>name</th>\n",
       "      <th></th>\n",
       "      <th></th>\n",
       "      <th></th>\n",
       "      <th></th>\n",
       "      <th></th>\n",
       "      <th></th>\n",
       "      <th></th>\n",
       "      <th></th>\n",
       "      <th></th>\n",
       "      <th></th>\n",
       "      <th></th>\n",
       "      <th></th>\n",
       "      <th></th>\n",
       "      <th></th>\n",
       "      <th></th>\n",
       "      <th></th>\n",
       "      <th></th>\n",
       "      <th></th>\n",
       "      <th></th>\n",
       "      <th></th>\n",
       "      <th></th>\n",
       "    </tr>\n",
       "  </thead>\n",
       "  <tbody>\n",
       "    <tr>\n",
       "      <th>balu shahi</th>\n",
       "      <td>1</td>\n",
       "      <td>1</td>\n",
       "      <td>1</td>\n",
       "      <td>1</td>\n",
       "      <td>1</td>\n",
       "      <td>1</td>\n",
       "      <td>1</td>\n",
       "      <td>1</td>\n",
       "      <td>1</td>\n",
       "      <td>1</td>\n",
       "      <td>...</td>\n",
       "      <td>0</td>\n",
       "      <td>0</td>\n",
       "      <td>0</td>\n",
       "      <td>1</td>\n",
       "      <td>0</td>\n",
       "      <td>1</td>\n",
       "      <td>0</td>\n",
       "      <td>0</td>\n",
       "      <td>0</td>\n",
       "      <td>0</td>\n",
       "    </tr>\n",
       "    <tr>\n",
       "      <th>boondi</th>\n",
       "      <td>1</td>\n",
       "      <td>1</td>\n",
       "      <td>1</td>\n",
       "      <td>1</td>\n",
       "      <td>1</td>\n",
       "      <td>1</td>\n",
       "      <td>1</td>\n",
       "      <td>1</td>\n",
       "      <td>1</td>\n",
       "      <td>1</td>\n",
       "      <td>...</td>\n",
       "      <td>0</td>\n",
       "      <td>0</td>\n",
       "      <td>0</td>\n",
       "      <td>0</td>\n",
       "      <td>0</td>\n",
       "      <td>0</td>\n",
       "      <td>0</td>\n",
       "      <td>0</td>\n",
       "      <td>0</td>\n",
       "      <td>1</td>\n",
       "    </tr>\n",
       "    <tr>\n",
       "      <th>gajar ka halwa</th>\n",
       "      <td>1</td>\n",
       "      <td>1</td>\n",
       "      <td>1</td>\n",
       "      <td>1</td>\n",
       "      <td>1</td>\n",
       "      <td>1</td>\n",
       "      <td>1</td>\n",
       "      <td>1</td>\n",
       "      <td>1</td>\n",
       "      <td>1</td>\n",
       "      <td>...</td>\n",
       "      <td>0</td>\n",
       "      <td>0</td>\n",
       "      <td>0</td>\n",
       "      <td>0</td>\n",
       "      <td>0</td>\n",
       "      <td>0</td>\n",
       "      <td>1</td>\n",
       "      <td>0</td>\n",
       "      <td>0</td>\n",
       "      <td>0</td>\n",
       "    </tr>\n",
       "    <tr>\n",
       "      <th>ghevar</th>\n",
       "      <td>1</td>\n",
       "      <td>1</td>\n",
       "      <td>1</td>\n",
       "      <td>1</td>\n",
       "      <td>1</td>\n",
       "      <td>1</td>\n",
       "      <td>1</td>\n",
       "      <td>1</td>\n",
       "      <td>1</td>\n",
       "      <td>1</td>\n",
       "      <td>...</td>\n",
       "      <td>0</td>\n",
       "      <td>0</td>\n",
       "      <td>0</td>\n",
       "      <td>0</td>\n",
       "      <td>0</td>\n",
       "      <td>0</td>\n",
       "      <td>0</td>\n",
       "      <td>0</td>\n",
       "      <td>0</td>\n",
       "      <td>1</td>\n",
       "    </tr>\n",
       "    <tr>\n",
       "      <th>gulab jamun</th>\n",
       "      <td>1</td>\n",
       "      <td>1</td>\n",
       "      <td>1</td>\n",
       "      <td>1</td>\n",
       "      <td>1</td>\n",
       "      <td>1</td>\n",
       "      <td>1</td>\n",
       "      <td>1</td>\n",
       "      <td>1</td>\n",
       "      <td>1</td>\n",
       "      <td>...</td>\n",
       "      <td>0</td>\n",
       "      <td>0</td>\n",
       "      <td>0</td>\n",
       "      <td>1</td>\n",
       "      <td>0</td>\n",
       "      <td>1</td>\n",
       "      <td>0</td>\n",
       "      <td>0</td>\n",
       "      <td>0</td>\n",
       "      <td>0</td>\n",
       "    </tr>\n",
       "  </tbody>\n",
       "</table>\n",
       "<p>5 rows × 73 columns</p>\n",
       "</div>"
      ],
      "text/plain": [
       "                sugar  ginger  garam masala  urad dal  ghee  curry leaves  \\\n",
       "name                                                                        \n",
       "balu shahi          1       1             1         1     1             1   \n",
       "boondi              1       1             1         1     1             1   \n",
       "gajar ka halwa      1       1             1         1     1             1   \n",
       "ghevar              1       1             1         1     1             1   \n",
       "gulab jamun         1       1             1         1     1             1   \n",
       "\n",
       "                milk  jaggery  rice flour  tomato  ...  Tripura  \\\n",
       "name                                               ...            \n",
       "balu shahi         1        1           1       1  ...        0   \n",
       "boondi             1        1           1       1  ...        0   \n",
       "gajar ka halwa     1        1           1       1  ...        0   \n",
       "ghevar             1        1           1       1  ...        0   \n",
       "gulab jamun        1        1           1       1  ...        0   \n",
       "\n",
       "                Uttar Pradesh  Uttarakhand  West Bengal  Central  East  North  \\\n",
       "name                                                                            \n",
       "balu shahi                  0            0            1        0     1      0   \n",
       "boondi                      0            0            0        0     0      0   \n",
       "gajar ka halwa              0            0            0        0     0      1   \n",
       "ghevar                      0            0            0        0     0      0   \n",
       "gulab jamun                 0            0            1        0     1      0   \n",
       "\n",
       "                North East  South  West  \n",
       "name                                     \n",
       "balu shahi               0      0     0  \n",
       "boondi                   0      0     1  \n",
       "gajar ka halwa           0      0     0  \n",
       "ghevar                   0      0     1  \n",
       "gulab jamun              0      0     0  \n",
       "\n",
       "[5 rows x 73 columns]"
      ]
     },
     "execution_count": 62,
     "metadata": {},
     "output_type": "execute_result"
    }
   ],
   "source": [
    "# here i'm going to use Nearest Neighbors using cosine similarity so for model purpose let's take name column\n",
    "# as a index\n",
    "\n",
    "final_data.set_index(\"name\", inplace = True)\n",
    "final_data.head()"
   ]
  },
  {
   "cell_type": "markdown",
   "metadata": {},
   "source": [
    "### Model Builiding"
   ]
  },
  {
   "cell_type": "code",
   "execution_count": 63,
   "metadata": {},
   "outputs": [
    {
     "data": {
      "text/plain": [
       "NearestNeighbors(algorithm='brute', metric='cosine')"
      ]
     },
     "execution_count": 63,
     "metadata": {},
     "output_type": "execute_result"
    }
   ],
   "source": [
    "# here i'm going to use cosine similarity for recommend the cuisine\n",
    "# cosine similarity is nothing but a degree between two data points or two similar type of data\n",
    "\n",
    "# here i'm going to use Nearest Neighbors for implementing cosine distance\n",
    "# consine distance = 1 - consine similarity\n",
    "\n",
    "# here i use Nearest Neighbors with metric cosine and brute algorithm\n",
    "\n",
    "from sklearn.neighbors import NearestNeighbors\n",
    "\n",
    "model = NearestNeighbors(metric = \"cosine\", algorithm = \"brute\")\n",
    "model.fit(final_data)"
   ]
  },
  {
   "cell_type": "code",
   "execution_count": 64,
   "metadata": {
    "scrolled": true
   },
   "outputs": [
    {
     "data": {
      "text/plain": [
       "'aloo shimla mirch'"
      ]
     },
     "execution_count": 64,
     "metadata": {},
     "output_type": "execute_result"
    }
   ],
   "source": [
    "# now our model is ready so let's test it\n",
    "\n",
    "picked_cuisine = final_data.index[np.random.choice(final_data.shape[0])]\n",
    "picked_cuisine"
   ]
  },
  {
   "cell_type": "code",
   "execution_count": 65,
   "metadata": {},
   "outputs": [],
   "source": [
    "# now let's find similarity or recommened cusine using our model\n",
    "# our model return distance and index\n",
    "# distance is indicates that how far that similarity of that recommended cuisine with our picked cuisine\n",
    "# index indicates a index of our final data which is a name of cuisine\n",
    "\n",
    "# here i want 10 recommended cuisine for my picked cuisine\n",
    "\n",
    "distance, cuisine_index = model.kneighbors(final_data[final_data.index == picked_cuisine], n_neighbors = 11)"
   ]
  },
  {
   "cell_type": "code",
   "execution_count": 66,
   "metadata": {},
   "outputs": [
    {
     "data": {
      "text/plain": [
       "array([[1.11022302e-16, 1.11022302e-16, 1.11022302e-16, 1.11022302e-16,\n",
       "        1.11022302e-16, 1.11022302e-16, 1.11022302e-16, 1.11022302e-16,\n",
       "        1.11022302e-16, 1.11022302e-16, 1.11022302e-16]])"
      ]
     },
     "execution_count": 66,
     "metadata": {},
     "output_type": "execute_result"
    }
   ],
   "source": [
    "distance"
   ]
  },
  {
   "cell_type": "code",
   "execution_count": 67,
   "metadata": {},
   "outputs": [
    {
     "data": {
      "text/plain": [
       "array([[ 91,  69, 108, 107, 106, 103, 102, 101, 114,  68,  73]])"
      ]
     },
     "execution_count": 67,
     "metadata": {},
     "output_type": "execute_result"
    }
   ],
   "source": [
    "cuisine_index"
   ]
  },
  {
   "cell_type": "code",
   "execution_count": 68,
   "metadata": {
    "scrolled": false
   },
   "outputs": [
    {
     "name": "stdout",
     "output_type": "stream",
     "text": [
      "Recommendation for  aloo shimla mirch  are following\n",
      "1 .  kadai paneer  with distance  1.1102230246251565e-16\n",
      "2 .  aloo tikki  with distance  1.1102230246251565e-16\n",
      "3 .  paneer tikka masala  with distance  1.1102230246251565e-16\n",
      "4 .  paneer butter masala  with distance  1.1102230246251565e-16\n",
      "5 .  palak paneer  with distance  1.1102230246251565e-16\n",
      "6 .  mushroom matar  with distance  1.1102230246251565e-16\n",
      "7 .  mushroom do pyaza  with distance  1.1102230246251565e-16\n",
      "8 .  misi roti  with distance  1.1102230246251565e-16\n",
      "9 .  pindi chana  with distance  1.1102230246251565e-16\n",
      "10 .  aloo gobi  with distance  1.1102230246251565e-16\n",
      "11 .  bhatura  with distance  1.1102230246251565e-16\n"
     ]
    }
   ],
   "source": [
    "# let's print it in proper way\n",
    "\n",
    "# these are 2D arrays so let's convert it into 1D\n",
    "\n",
    "distance = distance.flatten()\n",
    "cuisine_index = cuisine_index.flatten()\n",
    "\n",
    "# probably first one is always our picked cuisine\n",
    "\n",
    "print(\"Recommendation for \", picked_cuisine, \" are following\")\n",
    "\n",
    "count = 1\n",
    "for i in range(cuisine_index.size):\n",
    "    if final_data.index[cuisine_index[i]] == picked_cuisine:\n",
    "        continue\n",
    "    print(count, \". \", final_data.index[cuisine_index[i]], \" with distance \", distance[i])\n",
    "    count += 1"
   ]
  },
  {
   "cell_type": "code",
   "execution_count": 69,
   "metadata": {},
   "outputs": [],
   "source": [
    "# let's export our main data for showing data on web app\n",
    "main_data.to_csv(\"cleaned_data.csv\", index = False)\n",
    "\n",
    "# let's export our final_data, it will used on frontend for getting recommendation\n",
    "final_data.to_csv(\"model_data.csv\")"
   ]
  },
  {
   "cell_type": "code",
   "execution_count": 70,
   "metadata": {},
   "outputs": [],
   "source": [
    "# let's export model using pickle file\n",
    "\n",
    "import pickle\n",
    "\n",
    "with open(\"model.pickle\", \"wb\") as f:\n",
    "    pickle.dump(model, f)"
   ]
  }
 ],
 "metadata": {
  "kernelspec": {
   "display_name": "Python 3",
   "language": "python",
   "name": "python3"
  },
  "language_info": {
   "codemirror_mode": {
    "name": "ipython",
    "version": 3
   },
   "file_extension": ".py",
   "mimetype": "text/x-python",
   "name": "python",
   "nbconvert_exporter": "python",
   "pygments_lexer": "ipython3",
   "version": "3.8.3"
  }
 },
 "nbformat": 4,
 "nbformat_minor": 4
}
